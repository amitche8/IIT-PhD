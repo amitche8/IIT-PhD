{
 "cells": [
  {
   "cell_type": "code",
   "execution_count": 1,
   "id": "48853c8e",
   "metadata": {},
   "outputs": [],
   "source": [
    "import pandas as pd\n",
    "import psychrolib\n"
   ]
  },
  {
   "cell_type": "code",
   "execution_count": 8,
   "id": "62eb2ef2",
   "metadata": {},
   "outputs": [],
   "source": [
    "source_file = \"D:\\School\\IIT-PHD\\FIeld Study\\T_EPW Data.xlsx\"\n",
    "\n",
    "\n",
    "\n",
    "df = pd.read_excel(source_file)\n",
    "\n",
    "psychrolib.SetUnitSystem(psychrolib.UnitSystem.SI)\n",
    "\n",
    "temp = list(df['Avg T'])\n",
    "rh = list(df['Avg Rh'])\n",
    "\n",
    "dp = []\n",
    "for value in range(len(temp)):\n",
    "    dp.append(psychrolib.GetTDewPointFromRelHum(temp[value], rh[value]))\n",
    "\n",
    "df2 = pd.DataFrame({'T':temp,\n",
    "                    'RH':rh,\n",
    "                    'DP':dp})\n",
    "\n",
    "df2.to_csv('T_EPW_data.csv')\n"
   ]
  }
 ],
 "metadata": {
  "kernelspec": {
   "display_name": "Python 3",
   "language": "python",
   "name": "python3"
  },
  "language_info": {
   "codemirror_mode": {
    "name": "ipython",
    "version": 3
   },
   "file_extension": ".py",
   "mimetype": "text/x-python",
   "name": "python",
   "nbconvert_exporter": "python",
   "pygments_lexer": "ipython3",
   "version": "3.11.9"
  }
 },
 "nbformat": 4,
 "nbformat_minor": 5
}
