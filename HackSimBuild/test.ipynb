{
 "cells": [
  {
   "cell_type": "code",
   "execution_count": 33,
   "metadata": {},
   "outputs": [
    {
     "name": "stdout",
     "output_type": "stream",
     "text": [
      "12 31 0\n"
     ]
    }
   ],
   "source": [
    "import math\n",
    "\n",
    "\n",
    "if Input <= 744:\n",
    "    Month = 1\n",
    "    Day = math.trunc(Input / 24)\n",
    "    Hour = Input % 24\n",
    "    print(Month,Day,Hour)\n",
    "if Input >744 and Input <=1416:\n",
    "    Month = 2\n",
    "    Day = math.trunc(Input / 24) -31\n",
    "    Hour = Input % 24\n",
    "    print(Month,Day,Hour)\n",
    "if Input >1416 and Input <=2160:\n",
    "    Month = 3\n",
    "    Day = math.trunc(Input / 24) -59\n",
    "    Hour = Input % 24\n",
    "    print(Month,Day,Hour)\n",
    "if Input >2160 and Input <=2880:\n",
    "    Month = 4\n",
    "    Day = math.trunc(Input / 24) -90\n",
    "    Hour = Input % 24\n",
    "    print(Month,Day,Hour)\n",
    "if Input >2880 and Input <=3624:\n",
    "    Month = 5\n",
    "    Day = math.trunc(Input / 24) -120\n",
    "    Hour = Input % 24\n",
    "    print(Month,Day,Hour)\n",
    "if Input >3624 and Input <=4344:\n",
    "    Month = 6\n",
    "    Day = math.trunc(Input / 24) -151\n",
    "    Hour = Input % 24\n",
    "    print(Month,Day,Hour)\n",
    "if Input >4344 and Input <=5088:\n",
    "    Month = 7\n",
    "    Day = math.trunc(Input / 24) -181\n",
    "    Hour = Input % 24\n",
    "    print(Month,Day,Hour)\n",
    "if Input >5088 and Input <=5832:\n",
    "    Month = 8\n",
    "    Day = math.trunc(Input / 24) -212\n",
    "    Hour = Input % 24\n",
    "    print(Month,Day,Hour)\n",
    "if Input >5832 and Input <=6552:\n",
    "    Month = 9\n",
    "    Day = math.trunc(Input / 24) -243\n",
    "    Hour = Input % 24\n",
    "    print(Month,Day,Hour)\n",
    "if Input >6552 and Input <=7296:\n",
    "    Month = 10\n",
    "    Day = math.trunc(Input / 24) -273\n",
    "    Hour = Input % 24\n",
    "    print(Month,Day,Hour)\n",
    "if Input >7296 and Input <=8016:\n",
    "    Month = 11\n",
    "    Day = math.trunc(Input / 24) -304\n",
    "    Hour = Input % 24\n",
    "    print(Month,Day,Hour)\n",
    "if Input >8016 and Input <=8760:\n",
    "    Month = 12\n",
    "    Day = math.trunc(Input / 24) -334\n",
    "    Hour = Input % 24\n",
    "    print(Month,Day,Hour)\n",
    "\n",
    "\n",
    "\n",
    "\n",
    "\n"
   ]
  },
  {
   "cell_type": "code",
   "execution_count": 28,
   "metadata": {},
   "outputs": [
    {
     "data": {
      "text/plain": [
       "8016"
      ]
     },
     "execution_count": 28,
     "metadata": {},
     "output_type": "execute_result"
    }
   ],
   "source": [
    "334*24\n",
    "\n"
   ]
  }
 ],
 "metadata": {
  "kernelspec": {
   "display_name": "Python 3.9.6 64-bit",
   "language": "python",
   "name": "python3"
  },
  "language_info": {
   "codemirror_mode": {
    "name": "ipython",
    "version": 3
   },
   "file_extension": ".py",
   "mimetype": "text/x-python",
   "name": "python",
   "nbconvert_exporter": "python",
   "pygments_lexer": "ipython3",
   "version": "3.9.6"
  },
  "orig_nbformat": 4,
  "vscode": {
   "interpreter": {
    "hash": "11938c6bc6919ae2720b4d5011047913343b08a43b18698fd82dedb0d4417594"
   }
  }
 },
 "nbformat": 4,
 "nbformat_minor": 2
}
