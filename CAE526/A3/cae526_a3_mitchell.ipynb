{
 "cells": [
  {
   "cell_type": "markdown",
   "metadata": {},
   "source": [
    "# CAE 526 Assignment 3\n",
    "### Al Mitchell\n",
    "\n",
    "## Problem 1:\n",
    "In this problem, we are going to compare buildings in Chicago with another city in the U.S. that has a building energy benchmarking ordinance. First, you need to download the City of Chicago benchmarking database. Then, you need to select another city with a building energy benchmarking policy. Most cities have their data easily accessible. You can find a list of cities with building energy benchmarking in this link:\n",
    "\n",
    "\n",
    "Parts A through D will be done for DC and dccago in parallel, negating Part E"
   ]
  },
  {
   "cell_type": "code",
   "execution_count": 24,
   "metadata": {},
   "outputs": [],
   "source": [
    "#libraries used\n",
    "\n",
    "import pandas as pd\n"
   ]
  },
  {
   "cell_type": "markdown",
   "metadata": {},
   "source": [
    "### Part a\n",
    "First start with the City of Chicago data and make sure to remove the buildings with no data (i.e., year construction, area, stie EUI and source EUI) being reported. Provide the total number of buildings with data and without data.\n"
   ]
  },
  {
   "cell_type": "code",
   "execution_count": 25,
   "metadata": {},
   "outputs": [
    {
     "name": "stderr",
     "output_type": "stream",
     "text": [
      "C:\\Users\\amitc\\AppData\\Roaming\\Python\\Python39\\site-packages\\IPython\\core\\interactiveshell.py:3441: DtypeWarning: Columns (6) have mixed types.Specify dtype option on import or set low_memory=False.\n",
      "  exec(code_obj, self.user_global_ns, self.user_ns)\n"
     ]
    },
    {
     "name": "stdout",
     "output_type": "stream",
     "text": [
      "Chicagos dataset had 17728, but 3621 were eliminated due to lacking data.  The final total is 14107\n",
      "DCs dataset had 23015, but 5754 were eliminated due to lacking data.  The final total is 17261\n"
     ]
    }
   ],
   "source": [
    "dc = pd.read_csv('Building_Energy_Benchmarking.csv')\n",
    "chi = pd.read_csv('Chicago_Energy_Benchmarking.csv')\n",
    "\n",
    "initChi = chi.shape[0]\n",
    "chi = chi.dropna(subset=['Site EUI (kBtu/sq ft)', 'Source EUI (kBtu/sq ft)', 'Year Built', 'Gross Floor Area - Buildings (sq ft)'])\n",
    "finChi = chi.shape[0]\n",
    "\n",
    "print('Chicagos dataset had ' + str(initChi) + ', but ' + str(initChi - finChi) + ' were eliminated due to lacking data.  The final total is ' + str(finChi))\n",
    "\n",
    "initDC = dc.shape[0]\n",
    "dc = dc.dropna(subset=['SOURCEEUI_KBTU_FT', 'YEARBUILT', 'TAXRECORDFLOORAREA'])\n",
    "finDC = dc.shape[0]\n",
    "\n",
    "print('DCs dataset had ' + str(initDC) + ', but ' + str(initDC - finDC) + ' were eliminated due to lacking data.  The final total is ' + str(finDC))"
   ]
  },
  {
   "cell_type": "markdown",
   "metadata": {},
   "source": [
    "### Part b\n",
    "Calculate mean, median, maximum, minimum, and standard deviation of site EUI, source EUI, year built, and gross floor area for buildings smaller than 250,000 ft2 ."
   ]
  },
  {
   "cell_type": "code",
   "execution_count": 30,
   "metadata": {},
   "outputs": [
    {
     "data": {
      "text/html": [
       "<div>\n",
       "<style scoped>\n",
       "    .dataframe tbody tr th:only-of-type {\n",
       "        vertical-align: middle;\n",
       "    }\n",
       "\n",
       "    .dataframe tbody tr th {\n",
       "        vertical-align: top;\n",
       "    }\n",
       "\n",
       "    .dataframe thead th {\n",
       "        text-align: right;\n",
       "    }\n",
       "</style>\n",
       "<table border=\"1\" class=\"dataframe\">\n",
       "  <thead>\n",
       "    <tr style=\"text-align: right;\">\n",
       "      <th></th>\n",
       "      <th>Site EUI (kBtu/sq ft)</th>\n",
       "      <th>Source EUI (kBtu/sq ft)</th>\n",
       "      <th>Year Built</th>\n",
       "      <th>Gross Floor Area - Buildings (sq ft)</th>\n",
       "    </tr>\n",
       "  </thead>\n",
       "  <tbody>\n",
       "    <tr>\n",
       "      <th>count</th>\n",
       "      <td>14107.000000</td>\n",
       "      <td>14107.000000</td>\n",
       "      <td>14107.000000</td>\n",
       "      <td>1.410700e+04</td>\n",
       "    </tr>\n",
       "    <tr>\n",
       "      <th>mean</th>\n",
       "      <td>102.099979</td>\n",
       "      <td>182.097696</td>\n",
       "      <td>1963.347983</td>\n",
       "      <td>2.706676e+05</td>\n",
       "    </tr>\n",
       "    <tr>\n",
       "      <th>std</th>\n",
       "      <td>268.767036</td>\n",
       "      <td>300.390650</td>\n",
       "      <td>37.010005</td>\n",
       "      <td>4.398371e+05</td>\n",
       "    </tr>\n",
       "    <tr>\n",
       "      <th>min</th>\n",
       "      <td>0.100000</td>\n",
       "      <td>0.200000</td>\n",
       "      <td>1692.000000</td>\n",
       "      <td>2.725600e+04</td>\n",
       "    </tr>\n",
       "    <tr>\n",
       "      <th>25%</th>\n",
       "      <td>62.000000</td>\n",
       "      <td>110.750000</td>\n",
       "      <td>1928.000000</td>\n",
       "      <td>7.728700e+04</td>\n",
       "    </tr>\n",
       "    <tr>\n",
       "      <th>50%</th>\n",
       "      <td>80.500000</td>\n",
       "      <td>143.000000</td>\n",
       "      <td>1969.000000</td>\n",
       "      <td>1.317820e+05</td>\n",
       "    </tr>\n",
       "    <tr>\n",
       "      <th>75%</th>\n",
       "      <td>103.400000</td>\n",
       "      <td>192.950000</td>\n",
       "      <td>1998.000000</td>\n",
       "      <td>2.878270e+05</td>\n",
       "    </tr>\n",
       "    <tr>\n",
       "      <th>max</th>\n",
       "      <td>15634.500000</td>\n",
       "      <td>16485.400000</td>\n",
       "      <td>2020.000000</td>\n",
       "      <td>9.245333e+06</td>\n",
       "    </tr>\n",
       "  </tbody>\n",
       "</table>\n",
       "</div>"
      ],
      "text/plain": [
       "       Site EUI (kBtu/sq ft)  Source EUI (kBtu/sq ft)    Year Built  \\\n",
       "count           14107.000000             14107.000000  14107.000000   \n",
       "mean              102.099979               182.097696   1963.347983   \n",
       "std               268.767036               300.390650     37.010005   \n",
       "min                 0.100000                 0.200000   1692.000000   \n",
       "25%                62.000000               110.750000   1928.000000   \n",
       "50%                80.500000               143.000000   1969.000000   \n",
       "75%               103.400000               192.950000   1998.000000   \n",
       "max             15634.500000             16485.400000   2020.000000   \n",
       "\n",
       "       Gross Floor Area - Buildings (sq ft)  \n",
       "count                          1.410700e+04  \n",
       "mean                           2.706676e+05  \n",
       "std                            4.398371e+05  \n",
       "min                            2.725600e+04  \n",
       "25%                            7.728700e+04  \n",
       "50%                            1.317820e+05  \n",
       "75%                            2.878270e+05  \n",
       "max                            9.245333e+06  "
      ]
     },
     "execution_count": 30,
     "metadata": {},
     "output_type": "execute_result"
    }
   ],
   "source": [
    "chiS = chi([]\n",
    "chiS[['Site EUI (kBtu/sq ft)', 'Source EUI (kBtu/sq ft)','Year Built', 'Gross Floor Area - Buildings (sq ft)']].describe()\n",
    "\n",
    "# chi['Site EUI (kBtu/sq ft)'].describe()\n",
    "# chi['Source EUI (kBtu/sq ft)'].describe()\n",
    "# chi['Year Built'].describe()\n",
    "# chi['Gross Floor Area - Buildings (sq ft)'].describe()"
   ]
  }
 ],
 "metadata": {
  "kernelspec": {
   "display_name": "Python 3.9.6 64-bit",
   "language": "python",
   "name": "python3"
  },
  "language_info": {
   "codemirror_mode": {
    "name": "ipython",
    "version": 3
   },
   "file_extension": ".py",
   "mimetype": "text/x-python",
   "name": "python",
   "nbconvert_exporter": "python",
   "pygments_lexer": "ipython3",
   "version": "3.9.6"
  },
  "orig_nbformat": 4,
  "vscode": {
   "interpreter": {
    "hash": "11938c6bc6919ae2720b4d5011047913343b08a43b18698fd82dedb0d4417594"
   }
  }
 },
 "nbformat": 4,
 "nbformat_minor": 2
}
