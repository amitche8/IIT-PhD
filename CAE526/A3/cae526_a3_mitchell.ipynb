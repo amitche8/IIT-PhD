{
 "cells": [
  {
   "cell_type": "markdown",
   "metadata": {},
   "source": [
    "# CAE 526 Assignment 3\n",
    "## Fall 2022\n",
    "### Al Mitchell\n",
    "\n",
    "## Problem 1:\n",
    "In this problem, we are going to compare buildings in Chicago with another city in the U.S. that has a building energy benchmarking ordinance. First, you need to download the City of Chicago benchmarking database. Then, you need to select another city with a building energy benchmarking policy. Most cities have their data easily accessible. You can find a list of cities with building energy benchmarking in this link:\n",
    "\n",
    "\n",
    "Parts A through D will be done for DC and dccago in parallel, negating Part E"
   ]
  },
  {
   "cell_type": "code",
   "execution_count": 140,
   "metadata": {},
   "outputs": [],
   "source": [
    "#libraries used\n",
    "\n",
    "import pandas as pd\n",
    "import matplotlib.pyplot as plt\n",
    "import matplotlib.gridspec as gridspec\n"
   ]
  },
  {
   "cell_type": "markdown",
   "metadata": {},
   "source": [
    "### Part a\n",
    "First start with the City of Chicago data and make sure to remove the buildings with no data (i.e., year construction, area, stie EUI and source EUI) being reported. Provide the total number of buildings with data and without data.\n"
   ]
  },
  {
   "cell_type": "code",
   "execution_count": 141,
   "metadata": {},
   "outputs": [
    {
     "name": "stdout",
     "output_type": "stream",
     "text": [
      "Chicagos dataset had 17728, but 3638 were eliminated due to lacking data.  The final total is 14090\n",
      "DCs dataset had 23015, but 5779 were eliminated due to lacking data.  The final total is 17236\n"
     ]
    },
    {
     "name": "stderr",
     "output_type": "stream",
     "text": [
      "C:\\Users\\amitc\\AppData\\Roaming\\Python\\Python39\\site-packages\\IPython\\core\\interactiveshell.py:3441: DtypeWarning: Columns (6) have mixed types.Specify dtype option on import or set low_memory=False.\n",
      "  exec(code_obj, self.user_global_ns, self.user_ns)\n"
     ]
    }
   ],
   "source": [
    "dc = pd.read_csv('Building_Energy_Benchmarking.csv')\n",
    "chi = pd.read_csv('Chicago_Energy_Benchmarking.csv')\n",
    "\n",
    "initChi = chi.shape[0]\n",
    "chi = chi.dropna(subset=['Site EUI (kBtu/sq ft)', 'Source EUI (kBtu/sq ft)', 'Year Built', 'Gross Floor Area - Buildings (sq ft)'])\n",
    "chi = chi[(chi['Site EUI (kBtu/sq ft)'] < 2000)]\n",
    "chi = chi[(chi['Source EUI (kBtu/sq ft)'] < 2000)]\n",
    "finChi = chi.shape[0]\n",
    "\n",
    "print('Chicagos dataset had ' + str(initChi) + ', but ' + str(initChi - finChi) + ' were eliminated due to lacking data.  The final total is ' + str(finChi))\n",
    "\n",
    "initDC = dc.shape[0]\n",
    "dc = dc.dropna(subset=['SITEEUI_KBTU_FT', 'SOURCEEUI_KBTU_FT', 'YEARBUILT', 'TAXRECORDFLOORAREA'])\n",
    "dc = dc[(dc['SITEEUI_KBTU_FT'] < 2000)]\n",
    "dc = dc[(dc['SOURCEEUI_KBTU_FT'] < 2000)]\n",
    "finDC = dc.shape[0]\n",
    "\n",
    "print('DCs dataset had ' + str(initDC) + ', but ' + str(initDC - finDC) + ' were eliminated due to lacking data.  The final total is ' + str(finDC))"
   ]
  },
  {
   "cell_type": "markdown",
   "metadata": {},
   "source": [
    "### Part b\n",
    "Calculate mean, median, maximum, minimum, and standard deviation of site EUI, source EUI, year built, and gross floor area for buildings smaller than 250,000 ft2 ."
   ]
  },
  {
   "cell_type": "code",
   "execution_count": 142,
   "metadata": {},
   "outputs": [
    {
     "data": {
      "text/html": [
       "<div>\n",
       "<style scoped>\n",
       "    .dataframe tbody tr th:only-of-type {\n",
       "        vertical-align: middle;\n",
       "    }\n",
       "\n",
       "    .dataframe tbody tr th {\n",
       "        vertical-align: top;\n",
       "    }\n",
       "\n",
       "    .dataframe thead th {\n",
       "        text-align: right;\n",
       "    }\n",
       "</style>\n",
       "<table border=\"1\" class=\"dataframe\">\n",
       "  <thead>\n",
       "    <tr style=\"text-align: right;\">\n",
       "      <th></th>\n",
       "      <th>Site EUI (kBtu/sq ft)</th>\n",
       "      <th>Source EUI (kBtu/sq ft)</th>\n",
       "      <th>Year Built</th>\n",
       "      <th>Gross Floor Area - Buildings (sq ft)</th>\n",
       "    </tr>\n",
       "  </thead>\n",
       "  <tbody>\n",
       "    <tr>\n",
       "      <th>count</th>\n",
       "      <td>9990.000000</td>\n",
       "      <td>9990.000000</td>\n",
       "      <td>9990.000000</td>\n",
       "      <td>9990.000000</td>\n",
       "    </tr>\n",
       "    <tr>\n",
       "      <th>mean</th>\n",
       "      <td>96.024835</td>\n",
       "      <td>172.757367</td>\n",
       "      <td>1959.579079</td>\n",
       "      <td>110764.447447</td>\n",
       "    </tr>\n",
       "    <tr>\n",
       "      <th>std</th>\n",
       "      <td>80.621826</td>\n",
       "      <td>131.797030</td>\n",
       "      <td>38.090509</td>\n",
       "      <td>52129.444868</td>\n",
       "    </tr>\n",
       "    <tr>\n",
       "      <th>min</th>\n",
       "      <td>0.100000</td>\n",
       "      <td>0.200000</td>\n",
       "      <td>1692.000000</td>\n",
       "      <td>27256.000000</td>\n",
       "    </tr>\n",
       "    <tr>\n",
       "      <th>25%</th>\n",
       "      <td>62.000000</td>\n",
       "      <td>106.800000</td>\n",
       "      <td>1926.000000</td>\n",
       "      <td>68245.000000</td>\n",
       "    </tr>\n",
       "    <tr>\n",
       "      <th>50%</th>\n",
       "      <td>80.800000</td>\n",
       "      <td>138.750000</td>\n",
       "      <td>1964.000000</td>\n",
       "      <td>95445.000000</td>\n",
       "    </tr>\n",
       "    <tr>\n",
       "      <th>75%</th>\n",
       "      <td>104.300000</td>\n",
       "      <td>189.675000</td>\n",
       "      <td>1996.000000</td>\n",
       "      <td>142776.000000</td>\n",
       "    </tr>\n",
       "    <tr>\n",
       "      <th>max</th>\n",
       "      <td>1692.700000</td>\n",
       "      <td>1788.200000</td>\n",
       "      <td>2020.000000</td>\n",
       "      <td>249910.000000</td>\n",
       "    </tr>\n",
       "  </tbody>\n",
       "</table>\n",
       "</div>"
      ],
      "text/plain": [
       "       Site EUI (kBtu/sq ft)  Source EUI (kBtu/sq ft)   Year Built  \\\n",
       "count            9990.000000              9990.000000  9990.000000   \n",
       "mean               96.024835               172.757367  1959.579079   \n",
       "std                80.621826               131.797030    38.090509   \n",
       "min                 0.100000                 0.200000  1692.000000   \n",
       "25%                62.000000               106.800000  1926.000000   \n",
       "50%                80.800000               138.750000  1964.000000   \n",
       "75%               104.300000               189.675000  1996.000000   \n",
       "max              1692.700000              1788.200000  2020.000000   \n",
       "\n",
       "       Gross Floor Area - Buildings (sq ft)  \n",
       "count                           9990.000000  \n",
       "mean                          110764.447447  \n",
       "std                            52129.444868  \n",
       "min                            27256.000000  \n",
       "25%                            68245.000000  \n",
       "50%                            95445.000000  \n",
       "75%                           142776.000000  \n",
       "max                           249910.000000  "
      ]
     },
     "execution_count": 142,
     "metadata": {},
     "output_type": "execute_result"
    }
   ],
   "source": [
    "chiS = chi[chi['Gross Floor Area - Buildings (sq ft)'] < 250000]\n",
    "chiS[['Site EUI (kBtu/sq ft)', 'Source EUI (kBtu/sq ft)','Year Built', 'Gross Floor Area - Buildings (sq ft)']].describe()\n",
    "\n",
    "# chi['Site EUI (kBtu/sq ft)'].describe()\n",
    "# chi['Source EUI (kBtu/sq ft)'].describe()\n",
    "# chi['Year Built'].describe()\n",
    "# chi['Gross Floor Area - Buildings (sq ft)'].describe()"
   ]
  },
  {
   "cell_type": "code",
   "execution_count": 143,
   "metadata": {},
   "outputs": [
    {
     "data": {
      "text/html": [
       "<div>\n",
       "<style scoped>\n",
       "    .dataframe tbody tr th:only-of-type {\n",
       "        vertical-align: middle;\n",
       "    }\n",
       "\n",
       "    .dataframe tbody tr th {\n",
       "        vertical-align: top;\n",
       "    }\n",
       "\n",
       "    .dataframe thead th {\n",
       "        text-align: right;\n",
       "    }\n",
       "</style>\n",
       "<table border=\"1\" class=\"dataframe\">\n",
       "  <thead>\n",
       "    <tr style=\"text-align: right;\">\n",
       "      <th></th>\n",
       "      <th>SITEEUI_KBTU_FT</th>\n",
       "      <th>SOURCEEUI_KBTU_FT</th>\n",
       "      <th>YEARBUILT</th>\n",
       "      <th>TAXRECORDFLOORAREA</th>\n",
       "    </tr>\n",
       "  </thead>\n",
       "  <tbody>\n",
       "    <tr>\n",
       "      <th>count</th>\n",
       "      <td>12788.000000</td>\n",
       "      <td>12788.000000</td>\n",
       "      <td>12788.000000</td>\n",
       "      <td>12788.000000</td>\n",
       "    </tr>\n",
       "    <tr>\n",
       "      <th>mean</th>\n",
       "      <td>65.412348</td>\n",
       "      <td>144.413247</td>\n",
       "      <td>1962.694088</td>\n",
       "      <td>98944.514310</td>\n",
       "    </tr>\n",
       "    <tr>\n",
       "      <th>std</th>\n",
       "      <td>47.249194</td>\n",
       "      <td>105.243829</td>\n",
       "      <td>33.591152</td>\n",
       "      <td>67709.275858</td>\n",
       "    </tr>\n",
       "    <tr>\n",
       "      <th>min</th>\n",
       "      <td>0.000000</td>\n",
       "      <td>0.000000</td>\n",
       "      <td>1727.000000</td>\n",
       "      <td>0.000000</td>\n",
       "    </tr>\n",
       "    <tr>\n",
       "      <th>25%</th>\n",
       "      <td>41.000000</td>\n",
       "      <td>91.600000</td>\n",
       "      <td>1940.000000</td>\n",
       "      <td>56076.000000</td>\n",
       "    </tr>\n",
       "    <tr>\n",
       "      <th>50%</th>\n",
       "      <td>61.400000</td>\n",
       "      <td>132.100000</td>\n",
       "      <td>1964.000000</td>\n",
       "      <td>86709.000000</td>\n",
       "    </tr>\n",
       "    <tr>\n",
       "      <th>75%</th>\n",
       "      <td>82.200000</td>\n",
       "      <td>183.125000</td>\n",
       "      <td>1987.000000</td>\n",
       "      <td>147560.000000</td>\n",
       "    </tr>\n",
       "    <tr>\n",
       "      <th>max</th>\n",
       "      <td>685.100000</td>\n",
       "      <td>1866.500000</td>\n",
       "      <td>2019.000000</td>\n",
       "      <td>249966.000000</td>\n",
       "    </tr>\n",
       "  </tbody>\n",
       "</table>\n",
       "</div>"
      ],
      "text/plain": [
       "       SITEEUI_KBTU_FT  SOURCEEUI_KBTU_FT     YEARBUILT  TAXRECORDFLOORAREA\n",
       "count     12788.000000       12788.000000  12788.000000        12788.000000\n",
       "mean         65.412348         144.413247   1962.694088        98944.514310\n",
       "std          47.249194         105.243829     33.591152        67709.275858\n",
       "min           0.000000           0.000000   1727.000000            0.000000\n",
       "25%          41.000000          91.600000   1940.000000        56076.000000\n",
       "50%          61.400000         132.100000   1964.000000        86709.000000\n",
       "75%          82.200000         183.125000   1987.000000       147560.000000\n",
       "max         685.100000        1866.500000   2019.000000       249966.000000"
      ]
     },
     "execution_count": 143,
     "metadata": {},
     "output_type": "execute_result"
    }
   ],
   "source": [
    "dcS = dc[dc['TAXRECORDFLOORAREA'] < 250000]\n",
    "dcS[['SITEEUI_KBTU_FT', 'SOURCEEUI_KBTU_FT', 'YEARBUILT', 'TAXRECORDFLOORAREA']].describe()\n",
    "\n",
    "# chi['Site EUI (kBtu/sq ft)'].describe()\n",
    "# chi['Source EUI (kBtu/sq ft)'].describe()\n",
    "# chi['Year Built'].describe()\n",
    "# chi['Gross Floor Area - Buildings (sq ft)'].describe()"
   ]
  },
  {
   "cell_type": "markdown",
   "metadata": {},
   "source": [
    "### Part c\n",
    "Calculate mean, median, maximum, minimum, and standard deviation of site EUI, source EUI, year built, and gross floor area for buildings larger than 250,000 ft2 ."
   ]
  },
  {
   "cell_type": "code",
   "execution_count": 144,
   "metadata": {},
   "outputs": [
    {
     "data": {
      "text/html": [
       "<div>\n",
       "<style scoped>\n",
       "    .dataframe tbody tr th:only-of-type {\n",
       "        vertical-align: middle;\n",
       "    }\n",
       "\n",
       "    .dataframe tbody tr th {\n",
       "        vertical-align: top;\n",
       "    }\n",
       "\n",
       "    .dataframe thead th {\n",
       "        text-align: right;\n",
       "    }\n",
       "</style>\n",
       "<table border=\"1\" class=\"dataframe\">\n",
       "  <thead>\n",
       "    <tr style=\"text-align: right;\">\n",
       "      <th></th>\n",
       "      <th>Site EUI (kBtu/sq ft)</th>\n",
       "      <th>Source EUI (kBtu/sq ft)</th>\n",
       "      <th>Year Built</th>\n",
       "      <th>Gross Floor Area - Buildings (sq ft)</th>\n",
       "    </tr>\n",
       "  </thead>\n",
       "  <tbody>\n",
       "    <tr>\n",
       "      <th>count</th>\n",
       "      <td>4100.000000</td>\n",
       "      <td>4100.000000</td>\n",
       "      <td>4100.000000</td>\n",
       "      <td>4.100000e+03</td>\n",
       "    </tr>\n",
       "    <tr>\n",
       "      <th>mean</th>\n",
       "      <td>91.794268</td>\n",
       "      <td>177.501927</td>\n",
       "      <td>1972.561707</td>\n",
       "      <td>6.603319e+05</td>\n",
       "    </tr>\n",
       "    <tr>\n",
       "      <th>std</th>\n",
       "      <td>58.230554</td>\n",
       "      <td>106.592174</td>\n",
       "      <td>32.475131</td>\n",
       "      <td>6.666078e+05</td>\n",
       "    </tr>\n",
       "    <tr>\n",
       "      <th>min</th>\n",
       "      <td>3.800000</td>\n",
       "      <td>8.400000</td>\n",
       "      <td>1845.000000</td>\n",
       "      <td>2.500000e+05</td>\n",
       "    </tr>\n",
       "    <tr>\n",
       "      <th>25%</th>\n",
       "      <td>61.800000</td>\n",
       "      <td>121.700000</td>\n",
       "      <td>1959.000000</td>\n",
       "      <td>3.205420e+05</td>\n",
       "    </tr>\n",
       "    <tr>\n",
       "      <th>50%</th>\n",
       "      <td>80.000000</td>\n",
       "      <td>152.750000</td>\n",
       "      <td>1976.000000</td>\n",
       "      <td>4.464830e+05</td>\n",
       "    </tr>\n",
       "    <tr>\n",
       "      <th>75%</th>\n",
       "      <td>100.700000</td>\n",
       "      <td>199.000000</td>\n",
       "      <td>2002.000000</td>\n",
       "      <td>7.441620e+05</td>\n",
       "    </tr>\n",
       "    <tr>\n",
       "      <th>max</th>\n",
       "      <td>1296.300000</td>\n",
       "      <td>1898.400000</td>\n",
       "      <td>2020.000000</td>\n",
       "      <td>9.245333e+06</td>\n",
       "    </tr>\n",
       "  </tbody>\n",
       "</table>\n",
       "</div>"
      ],
      "text/plain": [
       "       Site EUI (kBtu/sq ft)  Source EUI (kBtu/sq ft)   Year Built  \\\n",
       "count            4100.000000              4100.000000  4100.000000   \n",
       "mean               91.794268               177.501927  1972.561707   \n",
       "std                58.230554               106.592174    32.475131   \n",
       "min                 3.800000                 8.400000  1845.000000   \n",
       "25%                61.800000               121.700000  1959.000000   \n",
       "50%                80.000000               152.750000  1976.000000   \n",
       "75%               100.700000               199.000000  2002.000000   \n",
       "max              1296.300000              1898.400000  2020.000000   \n",
       "\n",
       "       Gross Floor Area - Buildings (sq ft)  \n",
       "count                          4.100000e+03  \n",
       "mean                           6.603319e+05  \n",
       "std                            6.666078e+05  \n",
       "min                            2.500000e+05  \n",
       "25%                            3.205420e+05  \n",
       "50%                            4.464830e+05  \n",
       "75%                            7.441620e+05  \n",
       "max                            9.245333e+06  "
      ]
     },
     "execution_count": 144,
     "metadata": {},
     "output_type": "execute_result"
    }
   ],
   "source": [
    "chiL = chi[chi['Gross Floor Area - Buildings (sq ft)'] >= 250000]\n",
    "chiL[['Site EUI (kBtu/sq ft)', 'Source EUI (kBtu/sq ft)','Year Built', 'Gross Floor Area - Buildings (sq ft)']].describe()\n",
    "\n",
    "# chi['Site EUI (kBtu/sq ft)'].describe()\n",
    "# chi['Source EUI (kBtu/sq ft)'].describe()\n",
    "# chi['Year Built'].describe()\n",
    "# chi['Gross Floor Area - Buildings (sq ft)'].describe()"
   ]
  },
  {
   "cell_type": "code",
   "execution_count": 145,
   "metadata": {},
   "outputs": [
    {
     "data": {
      "text/html": [
       "<div>\n",
       "<style scoped>\n",
       "    .dataframe tbody tr th:only-of-type {\n",
       "        vertical-align: middle;\n",
       "    }\n",
       "\n",
       "    .dataframe tbody tr th {\n",
       "        vertical-align: top;\n",
       "    }\n",
       "\n",
       "    .dataframe thead th {\n",
       "        text-align: right;\n",
       "    }\n",
       "</style>\n",
       "<table border=\"1\" class=\"dataframe\">\n",
       "  <thead>\n",
       "    <tr style=\"text-align: right;\">\n",
       "      <th></th>\n",
       "      <th>SITEEUI_KBTU_FT</th>\n",
       "      <th>SOURCEEUI_KBTU_FT</th>\n",
       "      <th>YEARBUILT</th>\n",
       "      <th>TAXRECORDFLOORAREA</th>\n",
       "    </tr>\n",
       "  </thead>\n",
       "  <tbody>\n",
       "    <tr>\n",
       "      <th>count</th>\n",
       "      <td>4448.000000</td>\n",
       "      <td>4448.000000</td>\n",
       "      <td>4448.000000</td>\n",
       "      <td>4.448000e+03</td>\n",
       "    </tr>\n",
       "    <tr>\n",
       "      <th>mean</th>\n",
       "      <td>65.521021</td>\n",
       "      <td>165.317131</td>\n",
       "      <td>1978.482914</td>\n",
       "      <td>5.069758e+05</td>\n",
       "    </tr>\n",
       "    <tr>\n",
       "      <th>std</th>\n",
       "      <td>60.045744</td>\n",
       "      <td>116.868019</td>\n",
       "      <td>30.656943</td>\n",
       "      <td>4.424620e+05</td>\n",
       "    </tr>\n",
       "    <tr>\n",
       "      <th>min</th>\n",
       "      <td>0.000000</td>\n",
       "      <td>0.000000</td>\n",
       "      <td>1795.000000</td>\n",
       "      <td>2.500000e+05</td>\n",
       "    </tr>\n",
       "    <tr>\n",
       "      <th>25%</th>\n",
       "      <td>44.075000</td>\n",
       "      <td>109.600000</td>\n",
       "      <td>1967.000000</td>\n",
       "      <td>2.979490e+05</td>\n",
       "    </tr>\n",
       "    <tr>\n",
       "      <th>50%</th>\n",
       "      <td>58.400000</td>\n",
       "      <td>153.050000</td>\n",
       "      <td>1982.000000</td>\n",
       "      <td>3.819510e+05</td>\n",
       "    </tr>\n",
       "    <tr>\n",
       "      <th>75%</th>\n",
       "      <td>74.800000</td>\n",
       "      <td>202.550000</td>\n",
       "      <td>2002.000000</td>\n",
       "      <td>5.267680e+05</td>\n",
       "    </tr>\n",
       "    <tr>\n",
       "      <th>max</th>\n",
       "      <td>1293.400000</td>\n",
       "      <td>1467.800000</td>\n",
       "      <td>2019.000000</td>\n",
       "      <td>3.997572e+06</td>\n",
       "    </tr>\n",
       "  </tbody>\n",
       "</table>\n",
       "</div>"
      ],
      "text/plain": [
       "       SITEEUI_KBTU_FT  SOURCEEUI_KBTU_FT    YEARBUILT  TAXRECORDFLOORAREA\n",
       "count      4448.000000        4448.000000  4448.000000        4.448000e+03\n",
       "mean         65.521021         165.317131  1978.482914        5.069758e+05\n",
       "std          60.045744         116.868019    30.656943        4.424620e+05\n",
       "min           0.000000           0.000000  1795.000000        2.500000e+05\n",
       "25%          44.075000         109.600000  1967.000000        2.979490e+05\n",
       "50%          58.400000         153.050000  1982.000000        3.819510e+05\n",
       "75%          74.800000         202.550000  2002.000000        5.267680e+05\n",
       "max        1293.400000        1467.800000  2019.000000        3.997572e+06"
      ]
     },
     "execution_count": 145,
     "metadata": {},
     "output_type": "execute_result"
    }
   ],
   "source": [
    "dcL = dc[dc['TAXRECORDFLOORAREA'] >= 250000]\n",
    "dcL[['SITEEUI_KBTU_FT', 'SOURCEEUI_KBTU_FT', 'YEARBUILT', 'TAXRECORDFLOORAREA']].describe()\n",
    "\n",
    "# chi['Site EUI (kBtu/sq ft)'].describe()\n",
    "# chi['Source EUI (kBtu/sq ft)'].describe()\n",
    "# chi['Year Built'].describe()\n",
    "# chi['Gross Floor Area - Buildings (sq ft)'].describe()"
   ]
  },
  {
   "cell_type": "markdown",
   "metadata": {},
   "source": [
    "### Part d\n",
    "Plot the histogram of EUIs (site and source), gross floor area, and year built."
   ]
  },
  {
   "cell_type": "code",
   "execution_count": 146,
   "metadata": {},
   "outputs": [
    {
     "data": {
      "text/plain": [
       "array([[<AxesSubplot:title={'center':'SITEEUI_KBTU_FT'}>,\n",
       "        <AxesSubplot:title={'center':'SOURCEEUI_KBTU_FT'}>],\n",
       "       [<AxesSubplot:title={'center':'YEARBUILT'}>,\n",
       "        <AxesSubplot:title={'center':'TAXRECORDFLOORAREA'}>]],\n",
       "      dtype=object)"
      ]
     },
     "execution_count": 146,
     "metadata": {},
     "output_type": "execute_result"
    },
    {
     "data": {
      "image/png": "[encoded data removed]",
      "text/plain": [
       "<Figure size 468x468 with 4 Axes>"
      ]
     },
     "metadata": {
      "needs_background": "light"
     },
     "output_type": "display_data"
    }
   ],
   "source": [
    "dc[['SITEEUI_KBTU_FT', 'SOURCEEUI_KBTU_FT', 'YEARBUILT', 'TAXRECORDFLOORAREA']].hist(bins=100,figsize=(6.5,6.5))"
   ]
  },
  {
   "cell_type": "code",
   "execution_count": 147,
   "metadata": {},
   "outputs": [
    {
     "data": {
      "text/plain": [
       "array([[<AxesSubplot:title={'center':'Site EUI (kBtu/sq ft)'}>,\n",
       "        <AxesSubplot:title={'center':'Source EUI (kBtu/sq ft)'}>],\n",
       "       [<AxesSubplot:title={'center':'Year Built'}>,\n",
       "        <AxesSubplot:title={'center':'Gross Floor Area - Buildings (sq ft)'}>]],\n",
       "      dtype=object)"
      ]
     },
     "execution_count": 147,
     "metadata": {},
     "output_type": "execute_result"
    },
    {
     "data": {
      "image/png": "[encoded data removed]",
      "text/plain": [
       "<Figure size 468x468 with 4 Axes>"
      ]
     },
     "metadata": {
      "needs_background": "light"
     },
     "output_type": "display_data"
    }
   ],
   "source": [
    "chi[['Site EUI (kBtu/sq ft)', 'Source EUI (kBtu/sq ft)','Year Built', 'Gross Floor Area - Buildings (sq ft)']].hist(bins=100,figsize=(6.5,6.5))"
   ]
  },
  {
   "cell_type": "markdown",
   "metadata": {},
   "source": [
    "### Part e\n",
    "Already Complete"
   ]
  },
  {
   "cell_type": "markdown",
   "metadata": {},
   "source": [
    "### Part f\n",
    "Compare the results of parts (a) to (e) in a tabular format or graphs. You need to think critically on how you would like to present the data. Please, explain similarities and differences between the two cities.\n",
    "\n",
    "#### Key Oberservations:\n",
    "- Very few buildings that exist in the data are built before 1850, meaning many of them are either non-compliant, non-existent, or less than the 50,000 ft2 limit\n",
    "- Many of the largest buildings in both cities were built in the 1930's and 1970's.  The largest building shown on the graph is likely the Sears Tower\n",
    "- there is no strong correlation with EUI and floor area, meaning that another variable must control the energy intensity\n",
    "- The most energy intensive buildings were built in the 1950's-1970's, likely due to the Miesification of architecture and high amounts of glazing in international style buildings."
   ]
  },
  {
   "cell_type": "code",
   "execution_count": 148,
   "metadata": {},
   "outputs": [
    {
     "data": {
      "image/png": "[encoded data removed]",
      "text/plain": [
       "<Figure size 1404x468 with 3 Axes>"
      ]
     },
     "metadata": {
      "needs_background": "light"
     },
     "output_type": "display_data"
    }
   ],
   "source": [
    "\n",
    "fig, (ax1, ax2, ax3) = plt.subplots(1, 3,figsize=(19.5,6.5))\n",
    "fig.suptitle('Comparing DC and Chicago Energy Benchmarking Data')\n",
    "\n",
    "dcA = dc['TAXRECORDFLOORAREA']\n",
    "dcE = dc['SITEEUI_KBTU_FT']\n",
    "dcY = dc['YEARBUILT']\n",
    "\n",
    "chiA = chi['Gross Floor Area - Buildings (sq ft)']\n",
    "chiE = chi['Site EUI (kBtu/sq ft)']\n",
    "chiY = chi['Year Built']\n",
    "\n",
    "ax1.scatter(dcA, dcY, label='DC')\n",
    "ax1.scatter(chiA, chiY, label='Chicago')\n",
    "ax1.set_xlabel('Gross Floor Area [ft2]')\n",
    "ax1.set_ylabel('Year Built')\n",
    "ax1.set_title('Gross Area vs Year Built')\n",
    "\n",
    "ax2.scatter(dcA,dcE, label='DC')\n",
    "ax2.scatter(chiA, chiE, label='Chicago')\n",
    "ax2.set_xlabel('Gross Floor Area [ft2]')\n",
    "ax2.set_ylabel('Site EUI (kBtu/ft2 yr')\n",
    "ax2.set_title('Gross Area vs Site EUI')\n",
    "\n",
    "ax3.scatter(dcY,dcE, label='DC')\n",
    "ax3.scatter(chiY, chiE, label='Chicago')\n",
    "ax3.set_xlabel('Year Built')\n",
    "ax3.set_ylabel('Site EUI (kBtu/ft2 yr')\n",
    "ax3.set_title('Year Built vs Site EUI')\n",
    "ax3.legend()\n",
    "\n",
    "plt.show()\n"
   ]
  },
  {
   "cell_type": "markdown",
   "metadata": {},
   "source": [
    "### Part g\n",
    "\n",
    "Compare these numbers with the number of buildings used in CBECS database."
   ]
  },
  {
   "cell_type": "code",
   "execution_count": 149,
   "metadata": {},
   "outputs": [
    {
     "name": "stdout",
     "output_type": "stream",
     "text": [
      "DC Data set has 17236 buildings consuming natural gas, which is 100.0 percent of buildings, compared to national percentage of 70.27222555240911\n",
      "Chicago Data set has 12836 buildings consuming natural gas, which is 91.1000709723208 percent of buildings, compared to national percentage of 70.27222555240911\n"
     ]
    }
   ],
   "source": [
    "cbecs2018gas = 67994\n",
    "cbecs2018all = 96758\n",
    "\n",
    "dcF = dc.dropna(subset=['NATURALGASUSE_THERMS'])\n",
    "dcGas = dcF.shape[0]\n",
    "\n",
    "chiF = chi.dropna(subset=['Natural Gas Use (kBtu)'])\n",
    "chiGas = chiF.shape[0]\n",
    "\n",
    "print('DC Data set has ' + str(dcGas) + \" buildings consuming natural gas, which is \" + str((dcGas / finDC) * 100) + \" percent of buildings, compared to national percentage of \" + str((cbecs2018gas / cbecs2018all)*100))\n",
    "print('Chicago Data set has ' + str(chiGas) + \" buildings consuming natural gas, which is \" + str((chiGas / finChi) * 100) + \" percent of buildings, compared to national percentage of \" + str((cbecs2018gas / cbecs2018all)*100))\n"
   ]
  }
 ],
 "metadata": {
  "kernelspec": {
   "display_name": "Python 3.9.6 64-bit",
   "language": "python",
   "name": "python3"
  },
  "language_info": {
   "codemirror_mode": {
    "name": "ipython",
    "version": 3
   },
   "file_extension": ".py",
   "mimetype": "text/x-python",
   "name": "python",
   "nbconvert_exporter": "python",
   "pygments_lexer": "ipython3",
   "version": "3.9.6"
  },
  "orig_nbformat": 4,
  "vscode": {
   "interpreter": {
    "hash": "11938c6bc6919ae2720b4d5011047913343b08a43b18698fd82dedb0d4417594"
   }
  }
 },
 "nbformat": 4,
 "nbformat_minor": 2
}
