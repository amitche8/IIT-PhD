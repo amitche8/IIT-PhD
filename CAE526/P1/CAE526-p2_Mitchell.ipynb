{
 "cells": [
  {
   "cell_type": "code",
   "execution_count": 35,
   "metadata": {},
   "outputs": [
    {
     "ename": "ModuleNotFoundError",
     "evalue": "No module named 'eppy'",
     "output_type": "error",
     "traceback": [
      "\u001b[1;31m---------------------------------------------------------------------------\u001b[0m",
      "\u001b[1;31mModuleNotFoundError\u001b[0m                       Traceback (most recent call last)",
      "Cell \u001b[1;32mIn [35], line 12\u001b[0m\n\u001b[0;32m     10\u001b[0m \u001b[39mimport\u001b[39;00m \u001b[39mos\u001b[39;00m\n\u001b[0;32m     11\u001b[0m \u001b[39mfrom\u001b[39;00m \u001b[39mstatistics\u001b[39;00m \u001b[39mimport\u001b[39;00m mean\n\u001b[1;32m---> 12\u001b[0m \u001b[39mfrom\u001b[39;00m \u001b[39meppy\u001b[39;00m \u001b[39mimport\u001b[39;00m modeleditor\n",
      "\u001b[1;31mModuleNotFoundError\u001b[0m: No module named 'eppy'"
     ]
    }
   ],
   "source": [
    "#libraries used\n",
    "\n",
    "import pandas as pd\n",
    "import matplotlib.pyplot as plt\n",
    "import matplotlib.gridspec as gridspec\n",
    "import numpy as np\n",
    "from scipy import stats\n",
    "from matplotlib.patches import Rectangle\n",
    "import matplotlib.colors as mcolors\n",
    "import os\n",
    "from statistics import mean\n",
    "\n",
    "\n"
   ]
  },
  {
   "cell_type": "code",
   "execution_count": null,
   "metadata": {},
   "outputs": [
    {
     "name": "stdout",
     "output_type": "stream",
     "text": [
      "EUI 2012 = 102.36085121698834\n"
     ]
    },
    {
     "data": {
      "text/html": [
       "<div>\n",
       "<style scoped>\n",
       "    .dataframe tbody tr th:only-of-type {\n",
       "        vertical-align: middle;\n",
       "    }\n",
       "\n",
       "    .dataframe tbody tr th {\n",
       "        vertical-align: top;\n",
       "    }\n",
       "\n",
       "    .dataframe thead th {\n",
       "        text-align: right;\n",
       "    }\n",
       "</style>\n",
       "<table border=\"1\" class=\"dataframe\">\n",
       "  <thead>\n",
       "    <tr style=\"text-align: right;\">\n",
       "      <th></th>\n",
       "      <th>index</th>\n",
       "      <th>MONTH</th>\n",
       "      <th>STEAM [kBTU]</th>\n",
       "      <th>ELEC [kWh]</th>\n",
       "      <th>ELEC [kBTU]</th>\n",
       "      <th>CHW [Ton-hr]</th>\n",
       "      <th>CHW [kBTU]</th>\n",
       "      <th>DHW [gal]</th>\n",
       "      <th>AVG TEMP [F]</th>\n",
       "    </tr>\n",
       "  </thead>\n",
       "  <tbody>\n",
       "    <tr>\n",
       "      <th>0</th>\n",
       "      <td>7</td>\n",
       "      <td>Jan-12</td>\n",
       "      <td>1836810.0</td>\n",
       "      <td>99010.0</td>\n",
       "      <td>337921.1</td>\n",
       "      <td>0.0</td>\n",
       "      <td>0.0</td>\n",
       "      <td>152900.0</td>\n",
       "      <td>31.3</td>\n",
       "    </tr>\n",
       "    <tr>\n",
       "      <th>1</th>\n",
       "      <td>8</td>\n",
       "      <td>Feb-12</td>\n",
       "      <td>1677000.0</td>\n",
       "      <td>95168.0</td>\n",
       "      <td>324808.4</td>\n",
       "      <td>0.0</td>\n",
       "      <td>0.0</td>\n",
       "      <td>142700.0</td>\n",
       "      <td>33.3</td>\n",
       "    </tr>\n",
       "    <tr>\n",
       "      <th>2</th>\n",
       "      <td>9</td>\n",
       "      <td>Mar-12</td>\n",
       "      <td>776900.0</td>\n",
       "      <td>89106.0</td>\n",
       "      <td>304118.8</td>\n",
       "      <td>0.0</td>\n",
       "      <td>0.0</td>\n",
       "      <td>158100.0</td>\n",
       "      <td>53.6</td>\n",
       "    </tr>\n",
       "    <tr>\n",
       "      <th>3</th>\n",
       "      <td>10</td>\n",
       "      <td>Apr-12</td>\n",
       "      <td>743900.0</td>\n",
       "      <td>87680.0</td>\n",
       "      <td>299251.8</td>\n",
       "      <td>0.0</td>\n",
       "      <td>0.0</td>\n",
       "      <td>171200.0</td>\n",
       "      <td>50.9</td>\n",
       "    </tr>\n",
       "    <tr>\n",
       "      <th>4</th>\n",
       "      <td>11</td>\n",
       "      <td>May-12</td>\n",
       "      <td>116300.0</td>\n",
       "      <td>80520.0</td>\n",
       "      <td>274814.8</td>\n",
       "      <td>3775.0</td>\n",
       "      <td>45300.0</td>\n",
       "      <td>157500.0</td>\n",
       "      <td>66.0</td>\n",
       "    </tr>\n",
       "  </tbody>\n",
       "</table>\n",
       "</div>"
      ],
      "text/plain": [
       "   index   MONTH  STEAM [kBTU]  ELEC [kWh]  ELEC [kBTU]  CHW [Ton-hr]  \\\n",
       "0      7  Jan-12     1836810.0     99010.0     337921.1           0.0   \n",
       "1      8  Feb-12     1677000.0     95168.0     324808.4           0.0   \n",
       "2      9  Mar-12      776900.0     89106.0     304118.8           0.0   \n",
       "3     10  Apr-12      743900.0     87680.0     299251.8           0.0   \n",
       "4     11  May-12      116300.0     80520.0     274814.8        3775.0   \n",
       "\n",
       "   CHW [kBTU]  DHW [gal]  AVG TEMP [F]  \n",
       "0         0.0   152900.0          31.3  \n",
       "1         0.0   142700.0          33.3  \n",
       "2         0.0   158100.0          53.6  \n",
       "3         0.0   171200.0          50.9  \n",
       "4     45300.0   157500.0          66.0  "
      ]
     },
     "execution_count": 29,
     "metadata": {},
     "output_type": "execute_result"
    }
   ],
   "source": [
    "os.chdir('C:\\\\Users\\\\amitc_crl\\\\OneDrive\\\\Documents\\\\GitHub\\\\IIT-PhD\\\\CAE526\\\\P1')\n",
    "\n",
    "df = pd.read_csv('CAE526-P1_HH UtilityData_Mitchell.csv')\n",
    "\n",
    "gsf = 111135\n",
    "\n",
    "df2012 = df.iloc[7:19]\n",
    "df2013 = df.iloc[19:31]\n",
    "df2020 = df.iloc[37:49]\n",
    "eui2012 = (df2012.sum(axis=0)[1] + df2012.sum(axis=0)[3] + df2012.sum(axis=0)[5])/gsf\n",
    "eui2013 = (df2013.sum(axis=0)[1] + df2013.sum(axis=0)[3] + df2013.sum(axis=0)[5])/gsf\n",
    "eui2020 = (df2020.sum(axis=0)[1] + df2020.sum(axis=0)[3] + df2020.sum(axis=0)[5])/gsf\n",
    "\n",
    "print('EUI 2012 = ' + str(eui2012))\n",
    "# print('EUI 2013 = ' + str(eui2013))\n",
    "# print('EUI 2020 = ' + str(eui2020))\n",
    "\n",
    "df2012 = df2012.reset_index()\n",
    "\n",
    "df2012.head()"
   ]
  },
  {
   "cell_type": "code",
   "execution_count": null,
   "metadata": {},
   "outputs": [],
   "source": [
    "def cvrsme(meterData, simData):\n",
    "    data = []\n",
    "    n = len(meterData)\n",
    "    y_bar = mean(meterData)\n",
    "    for m,s in zip(meterData,simData):\n",
    "        data.append((((m-s)**2)/(n-1)))\n",
    "    CVRSME = 100*(1/y_bar)*(sum(data)**(1/2))\n",
    "    return CVRSME\n",
    "\n",
    "def nmbe(meterData, simData):\n",
    "    data = []\n",
    "    n = len(meterData)\n",
    "    y_bar = mean(meterData)\n",
    "    for m,s in zip(meterData,simData):\n",
    "        data.append(m-s)\n",
    "    NMBE = (((sum(data))/((n-1)*y_bar))*100)\n",
    "    return NMBE"
   ]
  },
  {
   "cell_type": "code",
   "execution_count": null,
   "metadata": {},
   "outputs": [
    {
     "name": "stdout",
     "output_type": "stream",
     "text": [
      "Electricity CVRSME:\n",
      "25.171269287918843\n",
      "Chilled Water CVRSME:\n",
      "3201.5733062739764\n",
      "District Heating CVRSME:\n",
      "42.51478167230881\n"
     ]
    }
   ],
   "source": [
    "simData = pd.read_csv('data.csv')\n",
    "\n",
    "elecSim = simData['Electricity [kWh]']\n",
    "elecMet = df2012['ELEC [kWh]']\n",
    "\n",
    "print('Electricity CVRSME:')\n",
    "print(cvrsme(elecMet, elecSim))\n",
    "\n",
    "chwSim = simData['Cooling [kBtu]']\n",
    "chwMet = df2012['CHW [kBTU]']\n",
    "\n",
    "print('Chilled Water CVRSME:')\n",
    "print(cvrsme(chwMet, chwSim))\n",
    "\n",
    "heatSim = simData['Heating [kbtu]']\n",
    "heatMet = df2012['STEAM [kBTU]']\n",
    "\n",
    "print('District Heating CVRSME:')\n",
    "print(cvrsme(heatMet, heatSim))"
   ]
  },
  {
   "cell_type": "code",
   "execution_count": null,
   "metadata": {},
   "outputs": [
    {
     "name": "stdout",
     "output_type": "stream",
     "text": [
      "Electricity NMBE:\n",
      "22.48977043173896\n",
      "Chilled Water NMBE:\n",
      "-2179.6510414792965\n",
      "District Heating NMBE:\n",
      "8.519809763516434\n"
     ]
    }
   ],
   "source": [
    "print('Electricity NMBE:')\n",
    "print(nmbe(elecMet, elecSim))\n",
    "\n",
    "print('Chilled Water NMBE:')\n",
    "print(nmbe(chwMet, chwSim))\n",
    "\n",
    "print('District Heating NMBE:')\n",
    "print(nmbe(heatMet, heatSim))"
   ]
  },
  {
   "cell_type": "code",
   "execution_count": null,
   "metadata": {},
   "outputs": [
    {
     "ename": "NameError",
     "evalue": "name 'minimize' is not defined",
     "output_type": "error",
     "traceback": [
      "\u001b[1;31m---------------------------------------------------------------------------\u001b[0m",
      "\u001b[1;31mNameError\u001b[0m                                 Traceback (most recent call last)",
      "Cell \u001b[1;32mIn [33], line 50\u001b[0m\n\u001b[0;32m     48\u001b[0m x0 \u001b[39m=\u001b[39m np\u001b[39m.\u001b[39marray([\u001b[39m0.1\u001b[39m, \u001b[39m0.5\u001b[39m])\n\u001b[0;32m     49\u001b[0m bnds \u001b[39m=\u001b[39m ((\u001b[39m0.1\u001b[39m,\u001b[39m2.5\u001b[39m),(\u001b[39m0.1\u001b[39m,\u001b[39m2.5\u001b[39m))\n\u001b[1;32m---> 50\u001b[0m mvRes \u001b[39m=\u001b[39m minimize(f2, x0, bounds\u001b[39m=\u001b[39mbnds, method\u001b[39m=\u001b[39m\u001b[39m'\u001b[39m\u001b[39mNelder-Mead\u001b[39m\u001b[39m'\u001b[39m)\n\u001b[0;32m     51\u001b[0m \u001b[39m#res = minimize_scalar(f2, bounds=(0.1, 2.5), method='bounded')\u001b[39;00m\n\u001b[0;32m     54\u001b[0m plt\u001b[39m.\u001b[39mscatter(winHeight, dGain)\n",
      "\u001b[1;31mNameError\u001b[0m: name 'minimize' is not defined"
     ]
    }
   ],
   "source": [
    "#Multivariate\n",
    "\n",
    "winHeight = []\n",
    "winHeight2 = []\n",
    "dGain = []\n",
    "gainMultiplier = 2\n",
    "x = []\n",
    "z = []\n",
    "\n",
    "def f2(x):\n",
    "    window = idf1.idfobjects['Window'][2]\n",
    "    window.Height = x[0]\n",
    "    window = idf1.idfobjects['Window'][3]\n",
    "    window.Height = x[1]\n",
    "    idf1.saveas('eplusTEMP.idf')\n",
    "\n",
    "    idf = IDF('eplusTEMP.idf', epwfile)\n",
    "    idf.run()\n",
    "    fname = \"eplustbl.htm\"\n",
    "    filehandle = open(fname, 'r').read()\n",
    "    htables = readhtml.titletable(filehandle)\n",
    "\n",
    "    zoneSE = htables[99]\n",
    "    zoneSEtable = zoneSE[1]\n",
    "    rowSE = zoneSEtable[24]\n",
    "    SolarGainSE = rowSE[2]\n",
    "\n",
    "    zoneTEST = htables[141]\n",
    "    zoneTESTtable = zoneTEST[1]\n",
    "    rowTEST = zoneTESTtable[24]\n",
    "    SolarGainTEST = rowTEST[2]\n",
    "\n",
    "    winHeight.append(x[0])\n",
    "    winHeight2.append(x[1])\n",
    "    dGain.append(abs(gainMultiplier*SolarGainTEST-SolarGainSE))\n",
    "\n",
    "    print(abs((gainMultiplier*SolarGainTEST)-SolarGainSE))\n",
    "    print(x[0],x[1])\n",
    "    plt.scatter(winHeight, dGain)\n",
    "    plt.scatter(winHeight2, dGain)\n",
    "    plt.xlabel(\"Window Height [m]\")\n",
    "    plt.ylabel(\"dGain [Btu/hr]\")\n",
    "    plt.legend(loc='lower right')\n",
    "    plt.show()\n",
    "\n",
    "    return (abs((gainMultiplier*SolarGainTEST)-SolarGainSE))\n",
    "\n",
    "x0 = np.array([0.1, 0.5])\n",
    "bnds = ((0.1,2.5),(0.1,2.5))\n",
    "mvRes = minimize(f2, x0, bounds=bnds, method='Nelder-Mead')\n",
    "#res = minimize_scalar(f2, bounds=(0.1, 2.5), method='bounded')\n",
    "\n",
    "\n",
    "plt.scatter(winHeight, dGain)\n",
    "plt.scatter(winHeight2, dGain)\n",
    "plt.xlabel(\"Window Height [m]\")\n",
    "plt.ylabel(\"dGain [Btu/hr]\")\n",
    "plt.legend(loc='lower right')\n",
    "plt.show()\n",
    "\n",
    "mvRes.x"
   ]
  }
 ],
 "metadata": {
  "kernelspec": {
   "display_name": "Python 3.11.0 64-bit",
   "language": "python",
   "name": "python3"
  },
  "language_info": {
   "codemirror_mode": {
    "name": "ipython",
    "version": 3
   },
   "file_extension": ".py",
   "mimetype": "text/x-python",
   "name": "python",
   "nbconvert_exporter": "python",
   "pygments_lexer": "ipython3",
   "version": "3.11.0"
  },
  "orig_nbformat": 4,
  "vscode": {
   "interpreter": {
    "hash": "3a2df8bce4c3728179e711f7ab2bb12605327eb6ffdafff600c2f3855ccd679c"
   }
  }
 },
 "nbformat": 4,
 "nbformat_minor": 2
}
