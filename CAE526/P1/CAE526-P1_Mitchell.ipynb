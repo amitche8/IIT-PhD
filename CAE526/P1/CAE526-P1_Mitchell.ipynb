{
 "cells": [
  {
   "cell_type": "markdown",
   "metadata": {},
   "source": [
    "# CAE 526 Assignment 3\n",
    "## Fall 2022\n",
    "### Al Mitchell\n"
   ]
  },
  {
   "cell_type": "code",
   "execution_count": 28,
   "metadata": {},
   "outputs": [],
   "source": [
    "#libraries used\n",
    "\n",
    "import pandas as pd\n",
    "import matplotlib.pyplot as plt\n",
    "import matplotlib.gridspec as gridspec\n",
    "import numpy as np\n",
    "from scipy import stats\n"
   ]
  },
  {
   "cell_type": "code",
   "execution_count": 29,
   "metadata": {},
   "outputs": [
    {
     "data": {
      "text/html": [
       "<div>\n",
       "<style scoped>\n",
       "    .dataframe tbody tr th:only-of-type {\n",
       "        vertical-align: middle;\n",
       "    }\n",
       "\n",
       "    .dataframe tbody tr th {\n",
       "        vertical-align: top;\n",
       "    }\n",
       "\n",
       "    .dataframe thead th {\n",
       "        text-align: right;\n",
       "    }\n",
       "</style>\n",
       "<table border=\"1\" class=\"dataframe\">\n",
       "  <thead>\n",
       "    <tr style=\"text-align: right;\">\n",
       "      <th></th>\n",
       "      <th>MONTH</th>\n",
       "      <th>STEAM [kBTU]</th>\n",
       "      <th>ELEC [kWh]</th>\n",
       "      <th>ELEC [kBTU]</th>\n",
       "      <th>CHW [Ton-hr]</th>\n",
       "      <th>CHW [kBTU]</th>\n",
       "      <th>DHW [gal]</th>\n",
       "      <th>AVG TEMP [F]</th>\n",
       "    </tr>\n",
       "  </thead>\n",
       "  <tbody>\n",
       "    <tr>\n",
       "      <th>0</th>\n",
       "      <td>Jun-11</td>\n",
       "      <td>94080.0</td>\n",
       "      <td>81793.0</td>\n",
       "      <td>279159.5</td>\n",
       "      <td>7300.0</td>\n",
       "      <td>87600.0</td>\n",
       "      <td>998200.0</td>\n",
       "      <td>70.7</td>\n",
       "    </tr>\n",
       "    <tr>\n",
       "      <th>1</th>\n",
       "      <td>Jul-11</td>\n",
       "      <td>33360.0</td>\n",
       "      <td>90032.0</td>\n",
       "      <td>307279.2</td>\n",
       "      <td>10808.3</td>\n",
       "      <td>129700.0</td>\n",
       "      <td>1113700.0</td>\n",
       "      <td>79.9</td>\n",
       "    </tr>\n",
       "    <tr>\n",
       "      <th>2</th>\n",
       "      <td>Aug-11</td>\n",
       "      <td>17090.0</td>\n",
       "      <td>87106.0</td>\n",
       "      <td>297292.8</td>\n",
       "      <td>1550.0</td>\n",
       "      <td>18600.0</td>\n",
       "      <td>832700.0</td>\n",
       "      <td>74.3</td>\n",
       "    </tr>\n",
       "    <tr>\n",
       "      <th>3</th>\n",
       "      <td>Sep-11</td>\n",
       "      <td>165250.0</td>\n",
       "      <td>87828.0</td>\n",
       "      <td>299757.0</td>\n",
       "      <td>683.3</td>\n",
       "      <td>8200.0</td>\n",
       "      <td>702100.0</td>\n",
       "      <td>63.3</td>\n",
       "    </tr>\n",
       "    <tr>\n",
       "      <th>4</th>\n",
       "      <td>Oct-11</td>\n",
       "      <td>740440.0</td>\n",
       "      <td>89589.0</td>\n",
       "      <td>305767.3</td>\n",
       "      <td>441.7</td>\n",
       "      <td>5300.0</td>\n",
       "      <td>264200.0</td>\n",
       "      <td>55.6</td>\n",
       "    </tr>\n",
       "  </tbody>\n",
       "</table>\n",
       "</div>"
      ],
      "text/plain": [
       "    MONTH  STEAM [kBTU]  ELEC [kWh]  ELEC [kBTU]  CHW [Ton-hr]  CHW [kBTU]  \\\n",
       "0  Jun-11       94080.0     81793.0     279159.5        7300.0     87600.0   \n",
       "1  Jul-11       33360.0     90032.0     307279.2       10808.3    129700.0   \n",
       "2  Aug-11       17090.0     87106.0     297292.8        1550.0     18600.0   \n",
       "3  Sep-11      165250.0     87828.0     299757.0         683.3      8200.0   \n",
       "4  Oct-11      740440.0     89589.0     305767.3         441.7      5300.0   \n",
       "\n",
       "   DHW [gal]  AVG TEMP [F]  \n",
       "0   998200.0          70.7  \n",
       "1  1113700.0          79.9  \n",
       "2   832700.0          74.3  \n",
       "3   702100.0          63.3  \n",
       "4   264200.0          55.6  "
      ]
     },
     "execution_count": 29,
     "metadata": {},
     "output_type": "execute_result"
    }
   ],
   "source": [
    "df = pd.read_csv('C:/Users/amitc/Documents/GitHub/IIT-PhD/CAE526/P1/CAE526-P1_HH UtilityData_Mitchell.csv')\n",
    "df.head()"
   ]
  },
  {
   "cell_type": "code",
   "execution_count": 39,
   "metadata": {},
   "outputs": [
    {
     "data": {
      "image/png": "[encoded data removed]",
      "text/plain": [
       "<Figure size 864x468 with 2 Axes>"
      ]
     },
     "metadata": {
      "needs_background": "light"
     },
     "output_type": "display_data"
    }
   ],
   "source": [
    "fig, (ax1, ax2) = plt.subplots(1, 2,figsize=(12,6.5))\n",
    "fig.suptitle('Determining Setpoints from Monthly Data')\n",
    "\n",
    "steam = df['STEAM [kBTU]']\n",
    "chw = df['CHW [kBTU]']\n",
    "elec = df['ELEC [kBTU]']\n",
    "month = df['MONTH']\n",
    "temp = df['AVG TEMP [F]']\n",
    "\n",
    "ax1.scatter(temp, steam, label='Steam', color='red')\n",
    "ax1.set_xlabel('AVG TEMP [F]')\n",
    "ax1.set_ylabel('STEAM [kBTU]')\n",
    "ax1.set_title('Steam Consuption vs Average Monthly Temperature')\n",
    "\n",
    "\n",
    "# dfFit = df.loc[df['AVG TEMP [F]'] < 60]\n",
    "# steamf = dfFit['STEAM [kBTU]'] \n",
    "# # chw = df['CHW [kBTU]']\n",
    "# # elec = df['ELEC [kBTU]']\n",
    "# # month = df['MONTH']\n",
    "# tempfs = dfFit['AVG TEMP [F]']\n",
    "\n",
    "# slope, intercept, r, p, std_err = stats.linregress(steamf, tempfs)\n",
    "\n",
    "# def myfunc(x):\n",
    "#   return slope * x + intercept\n",
    "\n",
    "# mymodel = list(map(myfunc, steamf))\n",
    "\n",
    "# ax1.plot(steamf, mymodel)\n",
    "\n",
    "ax2.scatter(temp,chw, label='CHW')\n",
    "ax2.set_xlabel('AVG TEMP [F]')\n",
    "ax2.set_ylabel('CHW [kBTU]')\n",
    "ax2.set_title('Chilled Water Consuption vs Average Monthly Temperature')\n",
    "\n",
    "plt.show()\n"
   ]
  },
  {
   "cell_type": "code",
   "execution_count": 61,
   "metadata": {},
   "outputs": [
    {
     "name": "stdout",
     "output_type": "stream",
     "text": [
      "EUI 2012 = 102.36085121698834\n",
      "EUI 2013 = 96.182563548837\n",
      "EUI 2020 = 206.50929419174878\n"
     ]
    }
   ],
   "source": [
    "gsf = 111135\n",
    "\n",
    "df2012 = df.iloc[7:19]\n",
    "df2013 = df.iloc[19:31]\n",
    "df2020 = df.iloc[37:49]\n",
    "eui2012 = (df2012.sum(axis=0)[1] + df2012.sum(axis=0)[3] + df2012.sum(axis=0)[5])/gsf\n",
    "eui2013 = (df2013.sum(axis=0)[1] + df2013.sum(axis=0)[3] + df2013.sum(axis=0)[5])/gsf\n",
    "eui2020 = (df2020.sum(axis=0)[1] + df2020.sum(axis=0)[3] + df2020.sum(axis=0)[5])/gsf\n",
    "\n",
    "print('EUI 2012 = ' + str(eui2012))\n",
    "print('EUI 2013 = ' + str(eui2013))\n",
    "print('EUI 2020 = ' + str(eui2020))\n"
   ]
  }
 ],
 "metadata": {
  "kernelspec": {
   "display_name": "Python 3.9.6 64-bit",
   "language": "python",
   "name": "python3"
  },
  "language_info": {
   "codemirror_mode": {
    "name": "ipython",
    "version": 3
   },
   "file_extension": ".py",
   "mimetype": "text/x-python",
   "name": "python",
   "nbconvert_exporter": "python",
   "pygments_lexer": "ipython3",
   "version": "3.9.6"
  },
  "orig_nbformat": 4,
  "vscode": {
   "interpreter": {
    "hash": "11938c6bc6919ae2720b4d5011047913343b08a43b18698fd82dedb0d4417594"
   }
  }
 },
 "nbformat": 4,
 "nbformat_minor": 2
}
