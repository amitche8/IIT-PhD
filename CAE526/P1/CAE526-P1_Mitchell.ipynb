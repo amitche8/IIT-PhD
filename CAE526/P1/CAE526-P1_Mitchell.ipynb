{
 "cells": [
  {
   "cell_type": "markdown",
   "metadata": {},
   "source": [
    "# CAE 526 Project 1\n",
    "## Fall 2022\n",
    "### Al Mitchell\n"
   ]
  },
  {
   "cell_type": "code",
   "execution_count": null,
   "metadata": {},
   "outputs": [],
   "source": [
    "#libraries used\n",
    "\n",
    "import pandas as pd\n",
    "import matplotlib.pyplot as plt\n",
    "import matplotlib.gridspec as gridspec\n",
    "import numpy as np\n",
    "from scipy import stats\n",
    "from matplotlib.patches import Rectangle\n",
    "import matplotlib.colors as mcolors\n"
   ]
  },
  {
   "cell_type": "code",
   "execution_count": null,
   "metadata": {},
   "outputs": [],
   "source": [
    "df = pd.read_csv('C:/Users/amitc/Documents/GitHub/IIT-PhD/CAE526/P1/CAE526-P1_HH UtilityData_Mitchell.csv')\n",
    "df.head()"
   ]
  },
  {
   "cell_type": "code",
   "execution_count": null,
   "metadata": {},
   "outputs": [],
   "source": [
    "fig, (ax1, ax2) = plt.subplots(1, 2,figsize=(12,6.5))\n",
    "fig.suptitle('Determining Setpoints from Monthly Data')\n",
    "\n",
    "steam = df['STEAM [kBTU]']\n",
    "chw = df['CHW [kBTU]']\n",
    "elec = df['ELEC [kBTU]']\n",
    "month = df['MONTH']\n",
    "temp = df['AVG TEMP [F]']\n",
    "\n",
    "ax1.scatter(temp, steam, label='Steam', color='red')\n",
    "ax1.set_xlabel('AVG TEMP [F]')\n",
    "ax1.set_ylabel('STEAM [kBTU]')\n",
    "ax1.set_title('Steam Consuption vs Average Monthly Temperature')\n",
    "\n",
    "\n",
    "# dfFit = df.loc[df['AVG TEMP [F]'] < 60]\n",
    "# steamf = dfFit['STEAM [kBTU]'] \n",
    "# # chw = df['CHW [kBTU]']\n",
    "# # elec = df['ELEC [kBTU]']\n",
    "# # month = df['MONTH']\n",
    "# tempfs = dfFit['AVG TEMP [F]']\n",
    "\n",
    "# slope, intercept, r, p, std_err = stats.linregress(steamf, tempfs)\n",
    "\n",
    "# def myfunc(x):\n",
    "#   return slope * x + intercept\n",
    "\n",
    "# mymodel = list(map(myfunc, steamf))\n",
    "\n",
    "# ax1.plot(steamf, mymodel)\n",
    "\n",
    "ax2.scatter(temp,chw, label='CHW')\n",
    "ax2.set_xlabel('AVG TEMP [F]')\n",
    "ax2.set_ylabel('CHW [kBTU]')\n",
    "ax2.set_title('Chilled Water Consuption vs Average Monthly Temperature')\n",
    "\n",
    "plt.show()\n"
   ]
  },
  {
   "cell_type": "markdown",
   "metadata": {},
   "source": [
    "#Part C"
   ]
  },
  {
   "cell_type": "code",
   "execution_count": null,
   "metadata": {},
   "outputs": [],
   "source": [
    "gsf = 111135\n",
    "\n",
    "df2012 = df.iloc[7:19]\n",
    "df2013 = df.iloc[19:31]\n",
    "df2020 = df.iloc[37:49]\n",
    "eui2012 = (df2012.sum(axis=0)[1] + df2012.sum(axis=0)[3] + df2012.sum(axis=0)[5])/gsf\n",
    "eui2013 = (df2013.sum(axis=0)[1] + df2013.sum(axis=0)[3] + df2013.sum(axis=0)[5])/gsf\n",
    "eui2020 = (df2020.sum(axis=0)[1] + df2020.sum(axis=0)[3] + df2020.sum(axis=0)[5])/gsf\n",
    "\n",
    "print('EUI 2012 = ' + str(eui2012))\n",
    "print('EUI 2013 = ' + str(eui2013))\n",
    "print('EUI 2020 = ' + str(eui2020))\n"
   ]
  },
  {
   "cell_type": "code",
   "execution_count": null,
   "metadata": {},
   "outputs": [],
   "source": [
    "dc = pd.read_csv('Building_Energy_Benchmarking.csv')\n",
    "chi = pd.read_csv('Chicago_Energy_Benchmarking.csv')\n",
    "\n",
    "initChi = chi.shape[0]\n",
    "chi = chi.dropna(subset=['Site EUI (kBtu/sq ft)', 'Source EUI (kBtu/sq ft)', 'Year Built', 'Gross Floor Area - Buildings (sq ft)'])\n",
    "chi = chi[(chi['Site EUI (kBtu/sq ft)'] < 2000)]\n",
    "chi = chi[(chi['Source EUI (kBtu/sq ft)'] < 2000)]\n",
    "finChi = chi.shape[0]\n",
    "\n",
    "print('Chicagos dataset had ' + str(initChi) + ', but ' + str(initChi - finChi) + ' were eliminated due to lacking data.  The final total is ' + str(finChi))\n",
    "\n",
    "initDC = dc.shape[0]\n",
    "dc = dc.dropna(subset=['SITEEUI_KBTU_FT', 'SOURCEEUI_KBTU_FT', 'YEARBUILT', 'TAXRECORDFLOORAREA'])\n",
    "dc = dc[(dc['SITEEUI_KBTU_FT'] < 2000)]\n",
    "dc = dc[(dc['SOURCEEUI_KBTU_FT'] < 2000)]\n",
    "finDC = dc.shape[0]\n",
    "\n",
    "print('DCs dataset had ' + str(initDC) + ', but ' + str(initDC - finDC) + ' were eliminated due to lacking data.  The final total is ' + str(finDC))"
   ]
  },
  {
   "cell_type": "code",
   "execution_count": null,
   "metadata": {},
   "outputs": [],
   "source": [
    "chi[['Site EUI (kBtu/sq ft)', 'Source EUI (kBtu/sq ft)','Year Built', 'Gross Floor Area - Buildings (sq ft)']].describe()"
   ]
  },
  {
   "cell_type": "code",
   "execution_count": null,
   "metadata": {},
   "outputs": [],
   "source": [
    "chiUniversity = chi[chi['Primary Property Type'] == 'College/University']\n",
    "chiUniversity[['Site EUI (kBtu/sq ft)', 'Source EUI (kBtu/sq ft)','Year Built', 'Gross Floor Area - Buildings (sq ft)']].describe()"
   ]
  },
  {
   "cell_type": "code",
   "execution_count": null,
   "metadata": {},
   "outputs": [],
   "source": [
    "dc[['SITEEUI_KBTU_FT', 'SOURCEEUI_KBTU_FT', 'YEARBUILT', 'TAXRECORDFLOORAREA']].describe()"
   ]
  },
  {
   "cell_type": "code",
   "execution_count": null,
   "metadata": {},
   "outputs": [],
   "source": [
    "dcUniversity = dc[dc['PRIMARYPROPERTYTYPE_EPACALC'] == 'College/University']\n",
    "dcUniversity[['SITEEUI_KBTU_FT', 'SOURCEEUI_KBTU_FT', 'YEARBUILT', 'TAXRECORDFLOORAREA']].describe()"
   ]
  },
  {
   "cell_type": "code",
   "execution_count": null,
   "metadata": {},
   "outputs": [],
   "source": [
    "N = 1\n",
    "ind = np.arange(N) \n",
    "width = 0.25\n",
    "\n",
    "fig, ax = plt.subplots(figsize=(6.5,6.5))\n",
    "\n",
    "hh2012 = [102.36]\n",
    "bar1 = plt.bar(ind, hh2012, width)\n",
    "  \n",
    "hh2013 = [96.18]\n",
    "bar2 = plt.bar(ind+width, hh2013, width)\n",
    "  \n",
    "h2020 = [206.51]\n",
    "bar3 = plt.bar(ind+width*2, h2020, width)\n",
    "\n",
    "cbecs = [84.3]\n",
    "bar4 = plt.bar(ind+width*3, cbecs, width)\n",
    "\n",
    "chiUnivesityMean = [126.2]\n",
    "bar5 = plt.bar(ind+width*4, chiUnivesityMean, width)\n",
    "\n",
    "dcUniversityMean = [58.75]\n",
    "bar6 = plt.bar(ind+width*5, dcUniversityMean, width)\n",
    "\n",
    "hh2018 = [113.1]\n",
    "bar7 = plt.bar(ind+width*6, hh2018, width)\n",
    "\n",
    "plt.ylabel('EUI (kBTU/sf)')\n",
    "plt.title(\"Comparing EUI for Herman Hall to Others\")\n",
    "plt.xticks(ind+width*2.5,['Database'])\n",
    "plt.legend( (bar1, bar2, bar3, bar4, bar5, bar6, bar7), ('HH EUI 2012', 'HH EUI 2013', 'HH EUI 2020', 'CBECS 2018', 'Chicago Mean College EUI', 'DC Mean College EUI', 'HH Reported EUI 2018') )\n",
    "plt.show()"
   ]
  },
  {
   "cell_type": "code",
   "execution_count": null,
   "metadata": {},
   "outputs": [],
   "source": [
    "#Part H\n",
    "gsf = 111135\n",
    "gsfm = 70580\n",
    "\n",
    "labels = ['2012', '2013', '2020', 'Energy Model']\n",
    "Heating = np.array([(df2012.sum(axis=0)[1]/gsf), (df2013.sum(axis=0)[1]/gsf), (df2020.sum(axis=0)[1]/gsf), (6629014/gsfm)])\n",
    "Cooling = np.array([(df2012.sum(axis=0)[5]/gsf), (df2013.sum(axis=0)[5]/gsf), (df2020.sum(axis=0)[5]/gsf), (5624394/gsfm)])\n",
    "Elec = np.array([(df2012.sum(axis=0)[3]/gsf), (df2013.sum(axis=0)[3]/gsf), (df2020.sum(axis=0)[3]/gsf), (3450832/gsfm)])\n",
    "width = 0.5       # the width of the bars: can also be len(x) sequence\n",
    "\n",
    "fig, ax = plt.subplots(figsize=(6.5,6.5))\n",
    "\n",
    "ax.bar(labels, Heating, width, label='Heating [kBtu/sf]', color='r')\n",
    "ax.bar(labels, Cooling, width,  bottom=Heating, label='Cooling [kBtu/sf]', color='b')\n",
    "ax.bar(labels, Elec, width, bottom=Heating+Cooling, label='Electricity [kBtu/sf]', color='y')\n",
    "\n",
    "\n",
    "ax.set_ylabel('kBtu/sf')\n",
    "ax.set_title('Comparing EUI Breakdowns')\n",
    "ax.legend()\n",
    "\n",
    "plt.show()"
   ]
  },
  {
   "cell_type": "code",
   "execution_count": null,
   "metadata": {},
   "outputs": [],
   "source": [
    "elecM = pd.DataFrame([307120.364,276999.0232,308282.4912,293606.1485,311633.7917,310152.9837,273186.318,275666.7737,276699.4838,277059.4498,266751.1836,273530.1111])\n",
    "chwM = pd.DataFrame([3400,8530,50600,170020,270960,942490,1370470,1404030,996340,311480,93800,2280])\n",
    "hwM = pd.DataFrame([1564990,1140850,799080,389590,258450,143460,115560,133420,163050.359630,568950,1216980])\n",
    "\n",
    "#CVRMSE = 100*(1/(np.mean(elecM))*sum()\n",
    "\n",
    "df2012 = df2012.reset_index()\n",
    "\n",
    "elecCVRMSE = 0\n",
    "elecNMBE = 0\n",
    "yi = 0\n",
    "yi_hat = 0\n",
    "for x in elecM:\n",
    "    yi = elecM[x]\n",
    "    yi_hat = df2012['ELEC [kBTU]'][x]\n",
    "    elecCVRMSE = elecCVRMSE+(((yi-yi_hat)**2)/(12-1))\n",
    "    elecNMBE = elecNMBE+(yi-yi_hat)\n",
    "Celec = 100*(1/df2012['ELEC [kBTU]'].mean(axis=0))*(sum(elecCVRMSE)**(1/2))\n",
    "Nelec = 100*(sum(elecNMBE)/((12-1)*(df2012['ELEC [kBTU]'].mean(axis=0))))\n",
    "\n",
    "print(Celec)\n",
    "print(Nelec)\n",
    "\n",
    "heatCVRMSE = 0\n",
    "heatNMBE = 0\n",
    "yi = 0\n",
    "yi_hat = 0\n",
    "for x in hwM:\n",
    "    yi = hwM[x]\n",
    "    yi_hat = df2012['STEAM [kBTU]'][x]\n",
    "    heatCVRMSE = heatCVRMSE+(((yi-yi_hat)**2)/(12-1))\n",
    "    heatNMBE = heatNMBE+(yi-yi_hat)\n",
    "Cheat = 100*(1/df2012['STEAM [kBTU]'].mean(axis=0))*(sum(heatCVRMSE)**(1/2))\n",
    "Nheat = 100*(sum(heatNMBE)/((12-1)*(df2012['STEAM [kBTU]'].mean(axis=0))))\n",
    "\n",
    "print(Cheat)\n",
    "print(Nheat)\n",
    "\n",
    "chwCVRMSE = 0\n",
    "chwNMBE = 0\n",
    "yi = 0\n",
    "yi_hat = 0\n",
    "for x in chwM:\n",
    "    yi = chwM[x]\n",
    "    yi_hat = df2012['CHW [kBTU]'][x]\n",
    "    chwCVRMSE = chwCVRMSE+(((yi-yi_hat)**2)/(12-1))\n",
    "    chwtNMBE = chwNMBE+(yi-yi_hat)\n",
    "Cchw = 100*(1/df2012['CHW [kBTU]'].mean(axis=0))*(sum(chwCVRMSE)**(1/2))\n",
    "Nchw = 100*(sum(heatNMBE)/((12-1)*(df2012['CHW [kBTU]'].mean(axis=0))))\n",
    "\n",
    "print(Cchw)\n",
    "print(Nchw)\n",
    "\n",
    "\n"
   ]
  },
  {
   "cell_type": "code",
   "execution_count": null,
   "metadata": {},
   "outputs": [],
   "source": [
    "def cvrsme(meterData, simData):\n",
    "    "
   ]
  }
 ],
 "metadata": {
  "kernelspec": {
   "display_name": "Python 3.7.4 32-bit",
   "language": "python",
   "name": "python3"
  },
  "language_info": {
   "codemirror_mode": {
    "name": "ipython",
    "version": 3
   },
   "file_extension": ".py",
   "mimetype": "text/x-python",
   "name": "python",
   "nbconvert_exporter": "python",
   "pygments_lexer": "ipython3",
   "version": "3.7.4"
  },
  "orig_nbformat": 4,
  "vscode": {
   "interpreter": {
    "hash": "fbee29e38fc2b7fd97844bdab4050f9fd09955fb9a8d09c3383fd1c6dd759a84"
   }
  }
 },
 "nbformat": 4,
 "nbformat_minor": 2
}
