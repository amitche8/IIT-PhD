{
 "cells": [
  {
   "cell_type": "markdown",
   "metadata": {},
   "source": [
    "# CAE 526 Project 1\n",
    "## Fall 2022\n",
    "### Al Mitchell\n"
   ]
  },
  {
   "cell_type": "code",
   "execution_count": 5,
   "metadata": {},
   "outputs": [],
   "source": [
    "#libraries used\n",
    "\n",
    "import pandas as pd\n",
    "import matplotlib.pyplot as plt\n",
    "import matplotlib.gridspec as gridspec\n",
    "import numpy as np\n",
    "from scipy import stats\n",
    "from matplotlib.patches import Rectangle\n",
    "import matplotlib.colors as mcolors\n",
    "import os\n"
   ]
  },
  {
   "cell_type": "code",
   "execution_count": 9,
   "metadata": {},
   "outputs": [
    {
     "ename": "FileNotFoundError",
     "evalue": "[Errno 2] No such file or directory: 'CAE526\\\\P1\\\\CAE526-P1_HH UtilityData_Mitchell.csv'",
     "output_type": "error",
     "traceback": [
      "\u001b[1;31m---------------------------------------------------------------------------\u001b[0m",
      "\u001b[1;31mFileNotFoundError\u001b[0m                         Traceback (most recent call last)",
      "Cell \u001b[1;32mIn [9], line 1\u001b[0m\n\u001b[1;32m----> 1\u001b[0m df \u001b[39m=\u001b[39m pd\u001b[39m.\u001b[39;49mread_csv(\u001b[39m'\u001b[39;49m\u001b[39mCAE526\u001b[39;49m\u001b[39m\\\u001b[39;49m\u001b[39mP1\u001b[39;49m\u001b[39m\\\u001b[39;49m\u001b[39mCAE526-P1_HH UtilityData_Mitchell.csv\u001b[39;49m\u001b[39m'\u001b[39;49m)\n\u001b[0;32m      2\u001b[0m df\u001b[39m.\u001b[39mhead()\n",
      "File \u001b[1;32mc:\\Users\\amitc_crl\\AppData\\Local\\Programs\\Python\\Python311\\Lib\\site-packages\\pandas\\util\\_decorators.py:211\u001b[0m, in \u001b[0;36mdeprecate_kwarg.<locals>._deprecate_kwarg.<locals>.wrapper\u001b[1;34m(*args, **kwargs)\u001b[0m\n\u001b[0;32m    209\u001b[0m     \u001b[39melse\u001b[39;00m:\n\u001b[0;32m    210\u001b[0m         kwargs[new_arg_name] \u001b[39m=\u001b[39m new_arg_value\n\u001b[1;32m--> 211\u001b[0m \u001b[39mreturn\u001b[39;00m func(\u001b[39m*\u001b[39;49margs, \u001b[39m*\u001b[39;49m\u001b[39m*\u001b[39;49mkwargs)\n",
      "File \u001b[1;32mc:\\Users\\amitc_crl\\AppData\\Local\\Programs\\Python\\Python311\\Lib\\site-packages\\pandas\\util\\_decorators.py:331\u001b[0m, in \u001b[0;36mdeprecate_nonkeyword_arguments.<locals>.decorate.<locals>.wrapper\u001b[1;34m(*args, **kwargs)\u001b[0m\n\u001b[0;32m    325\u001b[0m \u001b[39mif\u001b[39;00m \u001b[39mlen\u001b[39m(args) \u001b[39m>\u001b[39m num_allow_args:\n\u001b[0;32m    326\u001b[0m     warnings\u001b[39m.\u001b[39mwarn(\n\u001b[0;32m    327\u001b[0m         msg\u001b[39m.\u001b[39mformat(arguments\u001b[39m=\u001b[39m_format_argument_list(allow_args)),\n\u001b[0;32m    328\u001b[0m         \u001b[39mFutureWarning\u001b[39;00m,\n\u001b[0;32m    329\u001b[0m         stacklevel\u001b[39m=\u001b[39mfind_stack_level(),\n\u001b[0;32m    330\u001b[0m     )\n\u001b[1;32m--> 331\u001b[0m \u001b[39mreturn\u001b[39;00m func(\u001b[39m*\u001b[39;49margs, \u001b[39m*\u001b[39;49m\u001b[39m*\u001b[39;49mkwargs)\n",
      "File \u001b[1;32mc:\\Users\\amitc_crl\\AppData\\Local\\Programs\\Python\\Python311\\Lib\\site-packages\\pandas\\io\\parsers\\readers.py:950\u001b[0m, in \u001b[0;36mread_csv\u001b[1;34m(filepath_or_buffer, sep, delimiter, header, names, index_col, usecols, squeeze, prefix, mangle_dupe_cols, dtype, engine, converters, true_values, false_values, skipinitialspace, skiprows, skipfooter, nrows, na_values, keep_default_na, na_filter, verbose, skip_blank_lines, parse_dates, infer_datetime_format, keep_date_col, date_parser, dayfirst, cache_dates, iterator, chunksize, compression, thousands, decimal, lineterminator, quotechar, quoting, doublequote, escapechar, comment, encoding, encoding_errors, dialect, error_bad_lines, warn_bad_lines, on_bad_lines, delim_whitespace, low_memory, memory_map, float_precision, storage_options)\u001b[0m\n\u001b[0;32m    935\u001b[0m kwds_defaults \u001b[39m=\u001b[39m _refine_defaults_read(\n\u001b[0;32m    936\u001b[0m     dialect,\n\u001b[0;32m    937\u001b[0m     delimiter,\n\u001b[1;32m   (...)\u001b[0m\n\u001b[0;32m    946\u001b[0m     defaults\u001b[39m=\u001b[39m{\u001b[39m\"\u001b[39m\u001b[39mdelimiter\u001b[39m\u001b[39m\"\u001b[39m: \u001b[39m\"\u001b[39m\u001b[39m,\u001b[39m\u001b[39m\"\u001b[39m},\n\u001b[0;32m    947\u001b[0m )\n\u001b[0;32m    948\u001b[0m kwds\u001b[39m.\u001b[39mupdate(kwds_defaults)\n\u001b[1;32m--> 950\u001b[0m \u001b[39mreturn\u001b[39;00m _read(filepath_or_buffer, kwds)\n",
      "File \u001b[1;32mc:\\Users\\amitc_crl\\AppData\\Local\\Programs\\Python\\Python311\\Lib\\site-packages\\pandas\\io\\parsers\\readers.py:605\u001b[0m, in \u001b[0;36m_read\u001b[1;34m(filepath_or_buffer, kwds)\u001b[0m\n\u001b[0;32m    602\u001b[0m _validate_names(kwds\u001b[39m.\u001b[39mget(\u001b[39m\"\u001b[39m\u001b[39mnames\u001b[39m\u001b[39m\"\u001b[39m, \u001b[39mNone\u001b[39;00m))\n\u001b[0;32m    604\u001b[0m \u001b[39m# Create the parser.\u001b[39;00m\n\u001b[1;32m--> 605\u001b[0m parser \u001b[39m=\u001b[39m TextFileReader(filepath_or_buffer, \u001b[39m*\u001b[39;49m\u001b[39m*\u001b[39;49mkwds)\n\u001b[0;32m    607\u001b[0m \u001b[39mif\u001b[39;00m chunksize \u001b[39mor\u001b[39;00m iterator:\n\u001b[0;32m    608\u001b[0m     \u001b[39mreturn\u001b[39;00m parser\n",
      "File \u001b[1;32mc:\\Users\\amitc_crl\\AppData\\Local\\Programs\\Python\\Python311\\Lib\\site-packages\\pandas\\io\\parsers\\readers.py:1442\u001b[0m, in \u001b[0;36mTextFileReader.__init__\u001b[1;34m(self, f, engine, **kwds)\u001b[0m\n\u001b[0;32m   1439\u001b[0m     \u001b[39mself\u001b[39m\u001b[39m.\u001b[39moptions[\u001b[39m\"\u001b[39m\u001b[39mhas_index_names\u001b[39m\u001b[39m\"\u001b[39m] \u001b[39m=\u001b[39m kwds[\u001b[39m\"\u001b[39m\u001b[39mhas_index_names\u001b[39m\u001b[39m\"\u001b[39m]\n\u001b[0;32m   1441\u001b[0m \u001b[39mself\u001b[39m\u001b[39m.\u001b[39mhandles: IOHandles \u001b[39m|\u001b[39m \u001b[39mNone\u001b[39;00m \u001b[39m=\u001b[39m \u001b[39mNone\u001b[39;00m\n\u001b[1;32m-> 1442\u001b[0m \u001b[39mself\u001b[39m\u001b[39m.\u001b[39m_engine \u001b[39m=\u001b[39m \u001b[39mself\u001b[39;49m\u001b[39m.\u001b[39;49m_make_engine(f, \u001b[39mself\u001b[39;49m\u001b[39m.\u001b[39;49mengine)\n",
      "File \u001b[1;32mc:\\Users\\amitc_crl\\AppData\\Local\\Programs\\Python\\Python311\\Lib\\site-packages\\pandas\\io\\parsers\\readers.py:1735\u001b[0m, in \u001b[0;36mTextFileReader._make_engine\u001b[1;34m(self, f, engine)\u001b[0m\n\u001b[0;32m   1733\u001b[0m     \u001b[39mif\u001b[39;00m \u001b[39m\"\u001b[39m\u001b[39mb\u001b[39m\u001b[39m\"\u001b[39m \u001b[39mnot\u001b[39;00m \u001b[39min\u001b[39;00m mode:\n\u001b[0;32m   1734\u001b[0m         mode \u001b[39m+\u001b[39m\u001b[39m=\u001b[39m \u001b[39m\"\u001b[39m\u001b[39mb\u001b[39m\u001b[39m\"\u001b[39m\n\u001b[1;32m-> 1735\u001b[0m \u001b[39mself\u001b[39m\u001b[39m.\u001b[39mhandles \u001b[39m=\u001b[39m get_handle(\n\u001b[0;32m   1736\u001b[0m     f,\n\u001b[0;32m   1737\u001b[0m     mode,\n\u001b[0;32m   1738\u001b[0m     encoding\u001b[39m=\u001b[39;49m\u001b[39mself\u001b[39;49m\u001b[39m.\u001b[39;49moptions\u001b[39m.\u001b[39;49mget(\u001b[39m\"\u001b[39;49m\u001b[39mencoding\u001b[39;49m\u001b[39m\"\u001b[39;49m, \u001b[39mNone\u001b[39;49;00m),\n\u001b[0;32m   1739\u001b[0m     compression\u001b[39m=\u001b[39;49m\u001b[39mself\u001b[39;49m\u001b[39m.\u001b[39;49moptions\u001b[39m.\u001b[39;49mget(\u001b[39m\"\u001b[39;49m\u001b[39mcompression\u001b[39;49m\u001b[39m\"\u001b[39;49m, \u001b[39mNone\u001b[39;49;00m),\n\u001b[0;32m   1740\u001b[0m     memory_map\u001b[39m=\u001b[39;49m\u001b[39mself\u001b[39;49m\u001b[39m.\u001b[39;49moptions\u001b[39m.\u001b[39;49mget(\u001b[39m\"\u001b[39;49m\u001b[39mmemory_map\u001b[39;49m\u001b[39m\"\u001b[39;49m, \u001b[39mFalse\u001b[39;49;00m),\n\u001b[0;32m   1741\u001b[0m     is_text\u001b[39m=\u001b[39;49mis_text,\n\u001b[0;32m   1742\u001b[0m     errors\u001b[39m=\u001b[39;49m\u001b[39mself\u001b[39;49m\u001b[39m.\u001b[39;49moptions\u001b[39m.\u001b[39;49mget(\u001b[39m\"\u001b[39;49m\u001b[39mencoding_errors\u001b[39;49m\u001b[39m\"\u001b[39;49m, \u001b[39m\"\u001b[39;49m\u001b[39mstrict\u001b[39;49m\u001b[39m\"\u001b[39;49m),\n\u001b[0;32m   1743\u001b[0m     storage_options\u001b[39m=\u001b[39;49m\u001b[39mself\u001b[39;49m\u001b[39m.\u001b[39;49moptions\u001b[39m.\u001b[39;49mget(\u001b[39m\"\u001b[39;49m\u001b[39mstorage_options\u001b[39;49m\u001b[39m\"\u001b[39;49m, \u001b[39mNone\u001b[39;49;00m),\n\u001b[0;32m   1744\u001b[0m )\n\u001b[0;32m   1745\u001b[0m \u001b[39massert\u001b[39;00m \u001b[39mself\u001b[39m\u001b[39m.\u001b[39mhandles \u001b[39mis\u001b[39;00m \u001b[39mnot\u001b[39;00m \u001b[39mNone\u001b[39;00m\n\u001b[0;32m   1746\u001b[0m f \u001b[39m=\u001b[39m \u001b[39mself\u001b[39m\u001b[39m.\u001b[39mhandles\u001b[39m.\u001b[39mhandle\n",
      "File \u001b[1;32mc:\\Users\\amitc_crl\\AppData\\Local\\Programs\\Python\\Python311\\Lib\\site-packages\\pandas\\io\\common.py:856\u001b[0m, in \u001b[0;36mget_handle\u001b[1;34m(path_or_buf, mode, encoding, compression, memory_map, is_text, errors, storage_options)\u001b[0m\n\u001b[0;32m    851\u001b[0m \u001b[39melif\u001b[39;00m \u001b[39misinstance\u001b[39m(handle, \u001b[39mstr\u001b[39m):\n\u001b[0;32m    852\u001b[0m     \u001b[39m# Check whether the filename is to be opened in binary mode.\u001b[39;00m\n\u001b[0;32m    853\u001b[0m     \u001b[39m# Binary mode does not support 'encoding' and 'newline'.\u001b[39;00m\n\u001b[0;32m    854\u001b[0m     \u001b[39mif\u001b[39;00m ioargs\u001b[39m.\u001b[39mencoding \u001b[39mand\u001b[39;00m \u001b[39m\"\u001b[39m\u001b[39mb\u001b[39m\u001b[39m\"\u001b[39m \u001b[39mnot\u001b[39;00m \u001b[39min\u001b[39;00m ioargs\u001b[39m.\u001b[39mmode:\n\u001b[0;32m    855\u001b[0m         \u001b[39m# Encoding\u001b[39;00m\n\u001b[1;32m--> 856\u001b[0m         handle \u001b[39m=\u001b[39m \u001b[39mopen\u001b[39;49m(\n\u001b[0;32m    857\u001b[0m             handle,\n\u001b[0;32m    858\u001b[0m             ioargs\u001b[39m.\u001b[39;49mmode,\n\u001b[0;32m    859\u001b[0m             encoding\u001b[39m=\u001b[39;49mioargs\u001b[39m.\u001b[39;49mencoding,\n\u001b[0;32m    860\u001b[0m             errors\u001b[39m=\u001b[39;49merrors,\n\u001b[0;32m    861\u001b[0m             newline\u001b[39m=\u001b[39;49m\u001b[39m\"\u001b[39;49m\u001b[39m\"\u001b[39;49m,\n\u001b[0;32m    862\u001b[0m         )\n\u001b[0;32m    863\u001b[0m     \u001b[39melse\u001b[39;00m:\n\u001b[0;32m    864\u001b[0m         \u001b[39m# Binary mode\u001b[39;00m\n\u001b[0;32m    865\u001b[0m         handle \u001b[39m=\u001b[39m \u001b[39mopen\u001b[39m(handle, ioargs\u001b[39m.\u001b[39mmode)\n",
      "\u001b[1;31mFileNotFoundError\u001b[0m: [Errno 2] No such file or directory: 'CAE526\\\\P1\\\\CAE526-P1_HH UtilityData_Mitchell.csv'"
     ]
    }
   ],
   "source": [
    "os.chdir('C:\\Users\\amitc_crl\\OneDrive\\Documents\\GitHub\\IIT-PhD\\CAE526\\P1')\n",
    "\n",
    "df = pd.read_csv('CAE526\\P1\\CAE526-P1_HH UtilityData_Mitchell.csv')\n",
    "df.head()"
   ]
  },
  {
   "cell_type": "code",
   "execution_count": null,
   "metadata": {},
   "outputs": [
    {
     "ename": "",
     "evalue": "",
     "output_type": "error",
     "traceback": [
      "\u001b[1;31mRunning cells with 'Python 3.7.4 32-bit' requires ipykernel package.\n",
      "\u001b[1;31mRun the following command to install 'ipykernel' into the Python environment. \n",
      "\u001b[1;31mCommand: 'c:/Users/amitc_crl/AppData/Local/Programs/Python/Python37-32/python.exe -m pip install ipykernel -U --user --force-reinstall'"
     ]
    }
   ],
   "source": [
    "fig, (ax1, ax2) = plt.subplots(1, 2,figsize=(12,6.5))\n",
    "fig.suptitle('Determining Setpoints from Monthly Data')\n",
    "\n",
    "steam = df['STEAM [kBTU]']\n",
    "chw = df['CHW [kBTU]']\n",
    "elec = df['ELEC [kBTU]']\n",
    "month = df['MONTH']\n",
    "temp = df['AVG TEMP [F]']\n",
    "\n",
    "ax1.scatter(temp, steam, label='Steam', color='red')\n",
    "ax1.set_xlabel('AVG TEMP [F]')\n",
    "ax1.set_ylabel('STEAM [kBTU]')\n",
    "ax1.set_title('Steam Consuption vs Average Monthly Temperature')\n",
    "\n",
    "\n",
    "# dfFit = df.loc[df['AVG TEMP [F]'] < 60]\n",
    "# steamf = dfFit['STEAM [kBTU]'] \n",
    "# # chw = df['CHW [kBTU]']\n",
    "# # elec = df['ELEC [kBTU]']\n",
    "# # month = df['MONTH']\n",
    "# tempfs = dfFit['AVG TEMP [F]']\n",
    "\n",
    "# slope, intercept, r, p, std_err = stats.linregress(steamf, tempfs)\n",
    "\n",
    "# def myfunc(x):\n",
    "#   return slope * x + intercept\n",
    "\n",
    "# mymodel = list(map(myfunc, steamf))\n",
    "\n",
    "# ax1.plot(steamf, mymodel)\n",
    "\n",
    "ax2.scatter(temp,chw, label='CHW')\n",
    "ax2.set_xlabel('AVG TEMP [F]')\n",
    "ax2.set_ylabel('CHW [kBTU]')\n",
    "ax2.set_title('Chilled Water Consuption vs Average Monthly Temperature')\n",
    "\n",
    "plt.show()\n"
   ]
  },
  {
   "cell_type": "markdown",
   "metadata": {},
   "source": [
    "#Part C"
   ]
  },
  {
   "cell_type": "code",
   "execution_count": null,
   "metadata": {},
   "outputs": [
    {
     "ename": "",
     "evalue": "",
     "output_type": "error",
     "traceback": [
      "\u001b[1;31mRunning cells with 'Python 3.7.4 32-bit' requires ipykernel package.\n",
      "\u001b[1;31mRun the following command to install 'ipykernel' into the Python environment. \n",
      "\u001b[1;31mCommand: 'c:/Users/amitc_crl/AppData/Local/Programs/Python/Python37-32/python.exe -m pip install ipykernel -U --user --force-reinstall'"
     ]
    }
   ],
   "source": [
    "gsf = 111135\n",
    "\n",
    "df2012 = df.iloc[7:19]\n",
    "df2013 = df.iloc[19:31]\n",
    "df2020 = df.iloc[37:49]\n",
    "eui2012 = (df2012.sum(axis=0)[1] + df2012.sum(axis=0)[3] + df2012.sum(axis=0)[5])/gsf\n",
    "eui2013 = (df2013.sum(axis=0)[1] + df2013.sum(axis=0)[3] + df2013.sum(axis=0)[5])/gsf\n",
    "eui2020 = (df2020.sum(axis=0)[1] + df2020.sum(axis=0)[3] + df2020.sum(axis=0)[5])/gsf\n",
    "\n",
    "print('EUI 2012 = ' + str(eui2012))\n",
    "print('EUI 2013 = ' + str(eui2013))\n",
    "print('EUI 2020 = ' + str(eui2020))\n"
   ]
  },
  {
   "cell_type": "code",
   "execution_count": null,
   "metadata": {},
   "outputs": [
    {
     "ename": "",
     "evalue": "",
     "output_type": "error",
     "traceback": [
      "\u001b[1;31mRunning cells with 'Python 3.7.4 32-bit' requires ipykernel package.\n",
      "\u001b[1;31mRun the following command to install 'ipykernel' into the Python environment. \n",
      "\u001b[1;31mCommand: 'c:/Users/amitc_crl/AppData/Local/Programs/Python/Python37-32/python.exe -m pip install ipykernel -U --user --force-reinstall'"
     ]
    }
   ],
   "source": [
    "dc = pd.read_csv('Building_Energy_Benchmarking.csv')\n",
    "chi = pd.read_csv('Chicago_Energy_Benchmarking.csv')\n",
    "\n",
    "initChi = chi.shape[0]\n",
    "chi = chi.dropna(subset=['Site EUI (kBtu/sq ft)', 'Source EUI (kBtu/sq ft)', 'Year Built', 'Gross Floor Area - Buildings (sq ft)'])\n",
    "chi = chi[(chi['Site EUI (kBtu/sq ft)'] < 2000)]\n",
    "chi = chi[(chi['Source EUI (kBtu/sq ft)'] < 2000)]\n",
    "finChi = chi.shape[0]\n",
    "\n",
    "print('Chicagos dataset had ' + str(initChi) + ', but ' + str(initChi - finChi) + ' were eliminated due to lacking data.  The final total is ' + str(finChi))\n",
    "\n",
    "initDC = dc.shape[0]\n",
    "dc = dc.dropna(subset=['SITEEUI_KBTU_FT', 'SOURCEEUI_KBTU_FT', 'YEARBUILT', 'TAXRECORDFLOORAREA'])\n",
    "dc = dc[(dc['SITEEUI_KBTU_FT'] < 2000)]\n",
    "dc = dc[(dc['SOURCEEUI_KBTU_FT'] < 2000)]\n",
    "finDC = dc.shape[0]\n",
    "\n",
    "print('DCs dataset had ' + str(initDC) + ', but ' + str(initDC - finDC) + ' were eliminated due to lacking data.  The final total is ' + str(finDC))"
   ]
  },
  {
   "cell_type": "code",
   "execution_count": null,
   "metadata": {},
   "outputs": [
    {
     "ename": "",
     "evalue": "",
     "output_type": "error",
     "traceback": [
      "\u001b[1;31mRunning cells with 'Python 3.7.4 32-bit' requires ipykernel package.\n",
      "\u001b[1;31mRun the following command to install 'ipykernel' into the Python environment. \n",
      "\u001b[1;31mCommand: 'c:/Users/amitc_crl/AppData/Local/Programs/Python/Python37-32/python.exe -m pip install ipykernel -U --user --force-reinstall'"
     ]
    }
   ],
   "source": [
    "chi[['Site EUI (kBtu/sq ft)', 'Source EUI (kBtu/sq ft)','Year Built', 'Gross Floor Area - Buildings (sq ft)']].describe()"
   ]
  },
  {
   "cell_type": "code",
   "execution_count": null,
   "metadata": {},
   "outputs": [
    {
     "ename": "",
     "evalue": "",
     "output_type": "error",
     "traceback": [
      "\u001b[1;31mRunning cells with 'Python 3.7.4 32-bit' requires ipykernel package.\n",
      "\u001b[1;31mRun the following command to install 'ipykernel' into the Python environment. \n",
      "\u001b[1;31mCommand: 'c:/Users/amitc_crl/AppData/Local/Programs/Python/Python37-32/python.exe -m pip install ipykernel -U --user --force-reinstall'"
     ]
    }
   ],
   "source": [
    "chiUniversity = chi[chi['Primary Property Type'] == 'College/University']\n",
    "chiUniversity[['Site EUI (kBtu/sq ft)', 'Source EUI (kBtu/sq ft)','Year Built', 'Gross Floor Area - Buildings (sq ft)']].describe()"
   ]
  },
  {
   "cell_type": "code",
   "execution_count": null,
   "metadata": {},
   "outputs": [
    {
     "ename": "",
     "evalue": "",
     "output_type": "error",
     "traceback": [
      "\u001b[1;31mRunning cells with 'Python 3.7.4 32-bit' requires ipykernel package.\n",
      "\u001b[1;31mRun the following command to install 'ipykernel' into the Python environment. \n",
      "\u001b[1;31mCommand: 'c:/Users/amitc_crl/AppData/Local/Programs/Python/Python37-32/python.exe -m pip install ipykernel -U --user --force-reinstall'"
     ]
    }
   ],
   "source": [
    "dc[['SITEEUI_KBTU_FT', 'SOURCEEUI_KBTU_FT', 'YEARBUILT', 'TAXRECORDFLOORAREA']].describe()"
   ]
  },
  {
   "cell_type": "code",
   "execution_count": null,
   "metadata": {},
   "outputs": [
    {
     "ename": "",
     "evalue": "",
     "output_type": "error",
     "traceback": [
      "\u001b[1;31mRunning cells with 'Python 3.7.4 32-bit' requires ipykernel package.\n",
      "\u001b[1;31mRun the following command to install 'ipykernel' into the Python environment. \n",
      "\u001b[1;31mCommand: 'c:/Users/amitc_crl/AppData/Local/Programs/Python/Python37-32/python.exe -m pip install ipykernel -U --user --force-reinstall'"
     ]
    }
   ],
   "source": [
    "dcUniversity = dc[dc['PRIMARYPROPERTYTYPE_EPACALC'] == 'College/University']\n",
    "dcUniversity[['SITEEUI_KBTU_FT', 'SOURCEEUI_KBTU_FT', 'YEARBUILT', 'TAXRECORDFLOORAREA']].describe()"
   ]
  },
  {
   "cell_type": "code",
   "execution_count": null,
   "metadata": {},
   "outputs": [
    {
     "ename": "",
     "evalue": "",
     "output_type": "error",
     "traceback": [
      "\u001b[1;31mRunning cells with 'Python 3.7.4 32-bit' requires ipykernel package.\n",
      "\u001b[1;31mRun the following command to install 'ipykernel' into the Python environment. \n",
      "\u001b[1;31mCommand: 'c:/Users/amitc_crl/AppData/Local/Programs/Python/Python37-32/python.exe -m pip install ipykernel -U --user --force-reinstall'"
     ]
    }
   ],
   "source": [
    "N = 1\n",
    "ind = np.arange(N) \n",
    "width = 0.25\n",
    "\n",
    "fig, ax = plt.subplots(figsize=(6.5,6.5))\n",
    "\n",
    "hh2012 = [102.36]\n",
    "bar1 = plt.bar(ind, hh2012, width)\n",
    "  \n",
    "hh2013 = [96.18]\n",
    "bar2 = plt.bar(ind+width, hh2013, width)\n",
    "  \n",
    "h2020 = [206.51]\n",
    "bar3 = plt.bar(ind+width*2, h2020, width)\n",
    "\n",
    "cbecs = [84.3]\n",
    "bar4 = plt.bar(ind+width*3, cbecs, width)\n",
    "\n",
    "chiUnivesityMean = [126.2]\n",
    "bar5 = plt.bar(ind+width*4, chiUnivesityMean, width)\n",
    "\n",
    "dcUniversityMean = [58.75]\n",
    "bar6 = plt.bar(ind+width*5, dcUniversityMean, width)\n",
    "\n",
    "hh2018 = [113.1]\n",
    "bar7 = plt.bar(ind+width*6, hh2018, width)\n",
    "\n",
    "plt.ylabel('EUI (kBTU/sf)')\n",
    "plt.title(\"Comparing EUI for Herman Hall to Others\")\n",
    "plt.xticks(ind+width*2.5,['Database'])\n",
    "plt.legend( (bar1, bar2, bar3, bar4, bar5, bar6, bar7), ('HH EUI 2012', 'HH EUI 2013', 'HH EUI 2020', 'CBECS 2018', 'Chicago Mean College EUI', 'DC Mean College EUI', 'HH Reported EUI 2018') )\n",
    "plt.show()"
   ]
  },
  {
   "cell_type": "code",
   "execution_count": null,
   "metadata": {},
   "outputs": [
    {
     "ename": "",
     "evalue": "",
     "output_type": "error",
     "traceback": [
      "\u001b[1;31mRunning cells with 'Python 3.7.4 32-bit' requires ipykernel package.\n",
      "\u001b[1;31mRun the following command to install 'ipykernel' into the Python environment. \n",
      "\u001b[1;31mCommand: 'c:/Users/amitc_crl/AppData/Local/Programs/Python/Python37-32/python.exe -m pip install ipykernel -U --user --force-reinstall'"
     ]
    }
   ],
   "source": [
    "#Part H\n",
    "gsf = 111135\n",
    "gsfm = 70580\n",
    "\n",
    "labels = ['2012', '2013', '2020', 'Energy Model']\n",
    "Heating = np.array([(df2012.sum(axis=0)[1]/gsf), (df2013.sum(axis=0)[1]/gsf), (df2020.sum(axis=0)[1]/gsf), (6629014/gsfm)])\n",
    "Cooling = np.array([(df2012.sum(axis=0)[5]/gsf), (df2013.sum(axis=0)[5]/gsf), (df2020.sum(axis=0)[5]/gsf), (5624394/gsfm)])\n",
    "Elec = np.array([(df2012.sum(axis=0)[3]/gsf), (df2013.sum(axis=0)[3]/gsf), (df2020.sum(axis=0)[3]/gsf), (3450832/gsfm)])\n",
    "width = 0.5       # the width of the bars: can also be len(x) sequence\n",
    "\n",
    "fig, ax = plt.subplots(figsize=(6.5,6.5))\n",
    "\n",
    "ax.bar(labels, Heating, width, label='Heating [kBtu/sf]', color='r')\n",
    "ax.bar(labels, Cooling, width,  bottom=Heating, label='Cooling [kBtu/sf]', color='b')\n",
    "ax.bar(labels, Elec, width, bottom=Heating+Cooling, label='Electricity [kBtu/sf]', color='y')\n",
    "\n",
    "\n",
    "ax.set_ylabel('kBtu/sf')\n",
    "ax.set_title('Comparing EUI Breakdowns')\n",
    "ax.legend()\n",
    "\n",
    "plt.show()"
   ]
  },
  {
   "cell_type": "code",
   "execution_count": null,
   "metadata": {},
   "outputs": [
    {
     "ename": "",
     "evalue": "",
     "output_type": "error",
     "traceback": [
      "\u001b[1;31mRunning cells with 'Python 3.7.4 32-bit' requires ipykernel package.\n",
      "\u001b[1;31mRun the following command to install 'ipykernel' into the Python environment. \n",
      "\u001b[1;31mCommand: 'c:/Users/amitc_crl/AppData/Local/Programs/Python/Python37-32/python.exe -m pip install ipykernel -U --user --force-reinstall'"
     ]
    }
   ],
   "source": [
    "elecM = pd.DataFrame([307120.364,276999.0232,308282.4912,293606.1485,311633.7917,310152.9837,273186.318,275666.7737,276699.4838,277059.4498,266751.1836,273530.1111])\n",
    "chwM = pd.DataFrame([3400,8530,50600,170020,270960,942490,1370470,1404030,996340,311480,93800,2280])\n",
    "hwM = pd.DataFrame([1564990,1140850,799080,389590,258450,143460,115560,133420,163050.359630,568950,1216980])\n",
    "\n",
    "#CVRMSE = 100*(1/(np.mean(elecM))*sum()\n",
    "\n",
    "df2012 = df2012.reset_index()\n",
    "\n",
    "elecCVRMSE = 0\n",
    "elecNMBE = 0\n",
    "yi = 0\n",
    "yi_hat = 0\n",
    "for x in elecM:\n",
    "    yi = elecM[x]\n",
    "    yi_hat = df2012['ELEC [kBTU]'][x]\n",
    "    elecCVRMSE = elecCVRMSE+(((yi-yi_hat)**2)/(12-1))\n",
    "    elecNMBE = elecNMBE+(yi-yi_hat)\n",
    "Celec = 100*(1/df2012['ELEC [kBTU]'].mean(axis=0))*(sum(elecCVRMSE)**(1/2))\n",
    "Nelec = 100*(sum(elecNMBE)/((12-1)*(df2012['ELEC [kBTU]'].mean(axis=0))))\n",
    "\n",
    "print(Celec)\n",
    "print(Nelec)\n",
    "\n",
    "heatCVRMSE = 0\n",
    "heatNMBE = 0\n",
    "yi = 0\n",
    "yi_hat = 0\n",
    "for x in hwM:\n",
    "    yi = hwM[x]\n",
    "    yi_hat = df2012['STEAM [kBTU]'][x]\n",
    "    heatCVRMSE = heatCVRMSE+(((yi-yi_hat)**2)/(12-1))\n",
    "    heatNMBE = heatNMBE+(yi-yi_hat)\n",
    "Cheat = 100*(1/df2012['STEAM [kBTU]'].mean(axis=0))*(sum(heatCVRMSE)**(1/2))\n",
    "Nheat = 100*(sum(heatNMBE)/((12-1)*(df2012['STEAM [kBTU]'].mean(axis=0))))\n",
    "\n",
    "print(Cheat)\n",
    "print(Nheat)\n",
    "\n",
    "chwCVRMSE = 0\n",
    "chwNMBE = 0\n",
    "yi = 0\n",
    "yi_hat = 0\n",
    "for x in chwM:\n",
    "    yi = chwM[x]\n",
    "    yi_hat = df2012['CHW [kBTU]'][x]\n",
    "    chwCVRMSE = chwCVRMSE+(((yi-yi_hat)**2)/(12-1))\n",
    "    chwtNMBE = chwNMBE+(yi-yi_hat)\n",
    "Cchw = 100*(1/df2012['CHW [kBTU]'].mean(axis=0))*(sum(chwCVRMSE)**(1/2))\n",
    "Nchw = 100*(sum(heatNMBE)/((12-1)*(df2012['CHW [kBTU]'].mean(axis=0))))\n",
    "\n",
    "print(Cchw)\n",
    "print(Nchw)\n",
    "\n",
    "\n"
   ]
  },
  {
   "cell_type": "code",
   "execution_count": null,
   "metadata": {},
   "outputs": [
    {
     "ename": "",
     "evalue": "",
     "output_type": "error",
     "traceback": [
      "\u001b[1;31mRunning cells with 'Python 3.7.4 32-bit' requires ipykernel package.\n",
      "\u001b[1;31mRun the following command to install 'ipykernel' into the Python environment. \n",
      "\u001b[1;31mCommand: 'c:/Users/amitc_crl/AppData/Local/Programs/Python/Python37-32/python.exe -m pip install ipykernel -U --user --force-reinstall'"
     ]
    }
   ],
   "source": [
    "def cvrsme(meterData, simData):\n",
    "    "
   ]
  }
 ],
 "metadata": {
  "kernelspec": {
   "display_name": "Python 3.11.0 64-bit",
   "language": "python",
   "name": "python3"
  },
  "language_info": {
   "codemirror_mode": {
    "name": "ipython",
    "version": 3
   },
   "file_extension": ".py",
   "mimetype": "text/x-python",
   "name": "python",
   "nbconvert_exporter": "python",
   "pygments_lexer": "ipython3",
   "version": "3.11.0"
  },
  "orig_nbformat": 4,
  "vscode": {
   "interpreter": {
    "hash": "3a2df8bce4c3728179e711f7ab2bb12605327eb6ffdafff600c2f3855ccd679c"
   }
  }
 },
 "nbformat": 4,
 "nbformat_minor": 2
}
